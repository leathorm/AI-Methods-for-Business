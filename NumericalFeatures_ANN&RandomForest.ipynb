{
 "cells": [
  {
   "cell_type": "markdown",
   "metadata": {},
   "source": [
    "# Artificial Neural Network & Random Forest Modelling"
   ]
  },
  {
   "cell_type": "markdown",
   "metadata": {},
   "source": [
    "### Main Research Question:\n",
    "\n",
    "How should movie studios design their strategy to maximize the profit of their movies?"
   ]
  },
  {
   "cell_type": "markdown",
   "metadata": {},
   "source": [
    "### Subquestions:\n",
    "\n",
    "1 - Which model performs best at predicting profit?\n",
    "\n",
    "2 - How does the production budget influence the profit of the movies?\n",
    "\n",
    "3 - How does the theatre count influence the profit of a movie?\n",
    "\n",
    "4 - How does the average run per theatre influence the profit?\n",
    "\n",
    "5 - How does the runtime influence the profit of a movie?"
   ]
  },
  {
   "cell_type": "markdown",
   "metadata": {},
   "source": [
    "# Table of contents \n",
    "\n",
    "###  Import libraries \n",
    "\n",
    "###  1. Creating the train, test, and validation splits & encoding\n",
    "          \n",
    "###  2. Encoding & Scaling \n",
    "         2.1 Train dataset\n",
    "         2.2 Test dataset\n",
    "         2.3 Validation dataset\n",
    "\n",
    "###  3. Data Concatenation and Quality Check for Training-Validation Sets\n",
    "\n",
    "###  4. Modelling\n",
    "        4.1 Random forest\n",
    "            4.1.1 Fitting model & hyperparametertuning\n",
    "            4.1.2 Testing the model\n",
    "        4.2 Artificial Neural Network\n",
    "            4.2.1 Fitting the training dataset\n",
    "            4.2.2 Evaluate on validation dataset\n",
    "            4.2.3 Train model on train & validation dataset and make predictions on test set\n",
    "            4.2.4 Hyperparametertuning\n",
    "            4.2.5 Evaluate model on test dataset\n",
    "\n",
    "###  5. Explainability\n",
    "        5.1 ALE plots\n",
    "        5.2 Answers to Research Questions\n",
    "\n",
    "\n"
   ]
  },
  {
   "cell_type": "code",
   "execution_count": 1,
   "metadata": {},
   "outputs": [
    {
     "name": "stdout",
     "output_type": "stream",
     "text": [
      "WARNING:tensorflow:From c:\\Users\\leath\\anaconda3\\python\\Lib\\site-packages\\keras\\losses.py:2664: The name tf.losses.sparse_softmax_cross_entropy is deprecated. Please use tf.compat.v1.losses.sparse_softmax_cross_entropy instead.\n",
      "\n",
      "tensorflow: 2.15.0\n",
      "keras: 2.12.0\n"
     ]
    }
   ],
   "source": [
    "# importing useful libraries \n",
    "import pandas as pd\n",
    "import numpy as np\n",
    "\n",
    "from sklearn.preprocessing import OneHotEncoder, StandardScaler\n",
    "from sklearn.model_selection import PredefinedSplit, GridSearchCV\n",
    "from sklearn.svm import SVC\n",
    "from sklearn.linear_model import LinearRegression\n",
    "from sklearn.neighbors import KNeighborsRegressor\n",
    "from sklearn.neural_network import MLPRegressor\n",
    "from sklearn.svm import LinearSVR, SVR\n",
    "from sklearn.tree import DecisionTreeRegressor\n",
    "from sklearn.ensemble import RandomForestRegressor, GradientBoostingRegressor\n",
    "from IPython.core.interactiveshell import InteractiveShell\n",
    "from sklearn.neighbors import KNeighborsClassifier\n",
    "from sklearn.ensemble import RandomForestClassifier\n",
    "from sklearn.metrics import f1_score, recall_score, precision_score, precision_recall_curve\n",
    "from sklearn.model_selection import train_test_split\n",
    "from sklearn.metrics import mean_squared_error, mean_absolute_error, r2_score\n",
    "from plotnine import ggplot, aes, geom_point\n",
    "\n",
    "\n",
    "\n",
    "import matplotlib.pyplot as plt\n",
    "import os\n",
    "import datetime\n",
    "import pickle\n",
    "import json\n",
    "import random\n",
    "import re\n",
    "\n",
    "import tensorflow\n",
    "print('tensorflow: %s' % tensorflow.__version__)\n",
    "from tensorflow.keras.optimizers import Adam\n",
    "import keras\n",
    "print('keras: %s' % keras.__version__)\n",
    "from keras.models import Sequential\n",
    "from keras.layers import Dense\n",
    "from scikeras.wrappers import KerasClassifier"
   ]
  },
  {
   "cell_type": "code",
   "execution_count": 2,
   "metadata": {},
   "outputs": [],
   "source": [
    "#declaring constants for model behavior\n",
    "USE_STORED_SVC_HYPERTUNED_MODELS = True\n",
    "USE_STORED_SVC_SKLEARNED_HYPERTUNED_MODELS = True\n",
    "USE_STORED_NN_HYPERTUNED_MODELS = True"
   ]
  },
  {
   "cell_type": "code",
   "execution_count": 3,
   "metadata": {},
   "outputs": [
    {
     "data": {
      "text/html": [
       "<div>\n",
       "<style scoped>\n",
       "    .dataframe tbody tr th:only-of-type {\n",
       "        vertical-align: middle;\n",
       "    }\n",
       "\n",
       "    .dataframe tbody tr th {\n",
       "        vertical-align: top;\n",
       "    }\n",
       "\n",
       "    .dataframe thead th {\n",
       "        text-align: right;\n",
       "    }\n",
       "</style>\n",
       "<table border=\"1\" class=\"dataframe\">\n",
       "  <thead>\n",
       "    <tr style=\"text-align: right;\">\n",
       "      <th></th>\n",
       "      <th>rating</th>\n",
       "      <th>metascore</th>\n",
       "      <th>userscore</th>\n",
       "      <th>Age</th>\n",
       "      <th>RelMonth</th>\n",
       "      <th>top_actors_count</th>\n",
       "      <th>genre</th>\n",
       "      <th>worldwide_box_office</th>\n",
       "      <th>production_budget</th>\n",
       "      <th>theatre_count</th>\n",
       "      <th>avg run per theatre</th>\n",
       "      <th>runtime</th>\n",
       "      <th>profit</th>\n",
       "    </tr>\n",
       "  </thead>\n",
       "  <tbody>\n",
       "    <tr>\n",
       "      <th>0</th>\n",
       "      <td>PG-13</td>\n",
       "      <td>76</td>\n",
       "      <td>7.700</td>\n",
       "      <td>8</td>\n",
       "      <td>3</td>\n",
       "      <td>1</td>\n",
       "      <td>Thriller/Suspense</td>\n",
       "      <td>1.082864e+08</td>\n",
       "      <td>1.500000e+07</td>\n",
       "      <td>3391.00000</td>\n",
       "      <td>4.900000</td>\n",
       "      <td>103.0</td>\n",
       "      <td>9.328642e+07</td>\n",
       "    </tr>\n",
       "    <tr>\n",
       "      <th>1</th>\n",
       "      <td>R</td>\n",
       "      <td>61</td>\n",
       "      <td>6.900</td>\n",
       "      <td>12</td>\n",
       "      <td>9</td>\n",
       "      <td>0</td>\n",
       "      <td>Drama</td>\n",
       "      <td>9.876400e+05</td>\n",
       "      <td>3.642238e+07</td>\n",
       "      <td>3.00000</td>\n",
       "      <td>2.100000</td>\n",
       "      <td>100.0</td>\n",
       "      <td>-3.543474e+07</td>\n",
       "    </tr>\n",
       "    <tr>\n",
       "      <th>2</th>\n",
       "      <td>Not Rated</td>\n",
       "      <td>63</td>\n",
       "      <td>7.500</td>\n",
       "      <td>11</td>\n",
       "      <td>6</td>\n",
       "      <td>0</td>\n",
       "      <td>Comedy</td>\n",
       "      <td>2.524796e+07</td>\n",
       "      <td>3.642238e+07</td>\n",
       "      <td>13.00000</td>\n",
       "      <td>1.500000</td>\n",
       "      <td>91.0</td>\n",
       "      <td>-1.117442e+07</td>\n",
       "    </tr>\n",
       "    <tr>\n",
       "      <th>3</th>\n",
       "      <td>Not Rated</td>\n",
       "      <td>44</td>\n",
       "      <td>6.100</td>\n",
       "      <td>7</td>\n",
       "      <td>1</td>\n",
       "      <td>0</td>\n",
       "      <td>Drama</td>\n",
       "      <td>3.070000e+02</td>\n",
       "      <td>3.642238e+07</td>\n",
       "      <td>723.14704</td>\n",
       "      <td>4.124562</td>\n",
       "      <td>93.0</td>\n",
       "      <td>-3.642208e+07</td>\n",
       "    </tr>\n",
       "    <tr>\n",
       "      <th>4</th>\n",
       "      <td>Not Rated</td>\n",
       "      <td>65</td>\n",
       "      <td>6.886</td>\n",
       "      <td>9</td>\n",
       "      <td>5</td>\n",
       "      <td>0</td>\n",
       "      <td>Drama</td>\n",
       "      <td>4.701900e+04</td>\n",
       "      <td>3.642238e+07</td>\n",
       "      <td>723.14704</td>\n",
       "      <td>4.124562</td>\n",
       "      <td>88.0</td>\n",
       "      <td>-3.637536e+07</td>\n",
       "    </tr>\n",
       "  </tbody>\n",
       "</table>\n",
       "</div>"
      ],
      "text/plain": [
       "       rating  metascore  userscore  Age  RelMonth  top_actors_count  \\\n",
       "0       PG-13         76      7.700    8         3                 1   \n",
       "1           R         61      6.900   12         9                 0   \n",
       "2   Not Rated         63      7.500   11         6                 0   \n",
       "3   Not Rated         44      6.100    7         1                 0   \n",
       "4   Not Rated         65      6.886    9         5                 0   \n",
       "\n",
       "               genre  worldwide_box_office  production_budget  theatre_count  \\\n",
       "0  Thriller/Suspense          1.082864e+08       1.500000e+07     3391.00000   \n",
       "1              Drama          9.876400e+05       3.642238e+07        3.00000   \n",
       "2             Comedy          2.524796e+07       3.642238e+07       13.00000   \n",
       "3              Drama          3.070000e+02       3.642238e+07      723.14704   \n",
       "4              Drama          4.701900e+04       3.642238e+07      723.14704   \n",
       "\n",
       "   avg run per theatre  runtime        profit  \n",
       "0             4.900000    103.0  9.328642e+07  \n",
       "1             2.100000    100.0 -3.543474e+07  \n",
       "2             1.500000     91.0 -1.117442e+07  \n",
       "3             4.124562     93.0 -3.642208e+07  \n",
       "4             4.124562     88.0 -3.637536e+07  "
      ]
     },
     "execution_count": 3,
     "metadata": {},
     "output_type": "execute_result"
    }
   ],
   "source": [
    "# Loading the CSV file into a pandas DataFrame\n",
    "file_path = r\"c:\\Users\\leath\\Documents\\AUAS\\0. Completed\\7. AI Methods in Business\\Resit\\Merged_Cleaned.csv\"\n",
    "merged_df = pd.read_csv(file_path)\n",
    "\n",
    "# Showing dataframe\n",
    "merged_df.head()"
   ]
  },
  {
   "cell_type": "code",
   "execution_count": 4,
   "metadata": {},
   "outputs": [
    {
     "name": "stderr",
     "output_type": "stream",
     "text": [
      "c:\\Users\\leath\\anaconda3\\python\\Lib\\site-packages\\sklearn\\preprocessing\\_encoders.py:972: FutureWarning: `sparse` was renamed to `sparse_output` in version 1.2 and will be removed in 1.4. `sparse_output` is ignored unless you leave `sparse` to its default value.\n"
     ]
    },
    {
     "data": {
      "text/html": [
       "<div>\n",
       "<style scoped>\n",
       "    .dataframe tbody tr th:only-of-type {\n",
       "        vertical-align: middle;\n",
       "    }\n",
       "\n",
       "    .dataframe tbody tr th {\n",
       "        vertical-align: top;\n",
       "    }\n",
       "\n",
       "    .dataframe thead th {\n",
       "        text-align: right;\n",
       "    }\n",
       "</style>\n",
       "<table border=\"1\" class=\"dataframe\">\n",
       "  <thead>\n",
       "    <tr style=\"text-align: right;\">\n",
       "      <th></th>\n",
       "      <th>metascore</th>\n",
       "      <th>userscore</th>\n",
       "      <th>Age</th>\n",
       "      <th>RelMonth</th>\n",
       "      <th>top_actors_count</th>\n",
       "      <th>genre</th>\n",
       "      <th>worldwide_box_office</th>\n",
       "      <th>production_budget</th>\n",
       "      <th>theatre_count</th>\n",
       "      <th>avg run per theatre</th>\n",
       "      <th>...</th>\n",
       "      <th>rating_ MA-17</th>\n",
       "      <th>rating_ NC-17</th>\n",
       "      <th>rating_ NR</th>\n",
       "      <th>rating_ Not Rated</th>\n",
       "      <th>rating_ PG-13</th>\n",
       "      <th>rating_ R</th>\n",
       "      <th>rating_ TV-14</th>\n",
       "      <th>rating_ TV-G</th>\n",
       "      <th>rating_ TV-MA</th>\n",
       "      <th>rating_ TV-PG</th>\n",
       "    </tr>\n",
       "  </thead>\n",
       "  <tbody>\n",
       "    <tr>\n",
       "      <th>0</th>\n",
       "      <td>76</td>\n",
       "      <td>7.700</td>\n",
       "      <td>8</td>\n",
       "      <td>3</td>\n",
       "      <td>1</td>\n",
       "      <td>Thriller/Suspense</td>\n",
       "      <td>1.082864e+08</td>\n",
       "      <td>1.500000e+07</td>\n",
       "      <td>3391.00000</td>\n",
       "      <td>4.900000</td>\n",
       "      <td>...</td>\n",
       "      <td>0.0</td>\n",
       "      <td>0.0</td>\n",
       "      <td>0.0</td>\n",
       "      <td>0.0</td>\n",
       "      <td>1.0</td>\n",
       "      <td>0.0</td>\n",
       "      <td>0.0</td>\n",
       "      <td>0.0</td>\n",
       "      <td>0.0</td>\n",
       "      <td>0.0</td>\n",
       "    </tr>\n",
       "    <tr>\n",
       "      <th>1</th>\n",
       "      <td>61</td>\n",
       "      <td>6.900</td>\n",
       "      <td>12</td>\n",
       "      <td>9</td>\n",
       "      <td>0</td>\n",
       "      <td>Drama</td>\n",
       "      <td>9.876400e+05</td>\n",
       "      <td>3.642238e+07</td>\n",
       "      <td>3.00000</td>\n",
       "      <td>2.100000</td>\n",
       "      <td>...</td>\n",
       "      <td>0.0</td>\n",
       "      <td>0.0</td>\n",
       "      <td>0.0</td>\n",
       "      <td>0.0</td>\n",
       "      <td>0.0</td>\n",
       "      <td>1.0</td>\n",
       "      <td>0.0</td>\n",
       "      <td>0.0</td>\n",
       "      <td>0.0</td>\n",
       "      <td>0.0</td>\n",
       "    </tr>\n",
       "    <tr>\n",
       "      <th>2</th>\n",
       "      <td>63</td>\n",
       "      <td>7.500</td>\n",
       "      <td>11</td>\n",
       "      <td>6</td>\n",
       "      <td>0</td>\n",
       "      <td>Comedy</td>\n",
       "      <td>2.524796e+07</td>\n",
       "      <td>3.642238e+07</td>\n",
       "      <td>13.00000</td>\n",
       "      <td>1.500000</td>\n",
       "      <td>...</td>\n",
       "      <td>0.0</td>\n",
       "      <td>0.0</td>\n",
       "      <td>0.0</td>\n",
       "      <td>1.0</td>\n",
       "      <td>0.0</td>\n",
       "      <td>0.0</td>\n",
       "      <td>0.0</td>\n",
       "      <td>0.0</td>\n",
       "      <td>0.0</td>\n",
       "      <td>0.0</td>\n",
       "    </tr>\n",
       "    <tr>\n",
       "      <th>3</th>\n",
       "      <td>44</td>\n",
       "      <td>6.100</td>\n",
       "      <td>7</td>\n",
       "      <td>1</td>\n",
       "      <td>0</td>\n",
       "      <td>Drama</td>\n",
       "      <td>3.070000e+02</td>\n",
       "      <td>3.642238e+07</td>\n",
       "      <td>723.14704</td>\n",
       "      <td>4.124562</td>\n",
       "      <td>...</td>\n",
       "      <td>0.0</td>\n",
       "      <td>0.0</td>\n",
       "      <td>0.0</td>\n",
       "      <td>1.0</td>\n",
       "      <td>0.0</td>\n",
       "      <td>0.0</td>\n",
       "      <td>0.0</td>\n",
       "      <td>0.0</td>\n",
       "      <td>0.0</td>\n",
       "      <td>0.0</td>\n",
       "    </tr>\n",
       "    <tr>\n",
       "      <th>4</th>\n",
       "      <td>65</td>\n",
       "      <td>6.886</td>\n",
       "      <td>9</td>\n",
       "      <td>5</td>\n",
       "      <td>0</td>\n",
       "      <td>Drama</td>\n",
       "      <td>4.701900e+04</td>\n",
       "      <td>3.642238e+07</td>\n",
       "      <td>723.14704</td>\n",
       "      <td>4.124562</td>\n",
       "      <td>...</td>\n",
       "      <td>0.0</td>\n",
       "      <td>0.0</td>\n",
       "      <td>0.0</td>\n",
       "      <td>1.0</td>\n",
       "      <td>0.0</td>\n",
       "      <td>0.0</td>\n",
       "      <td>0.0</td>\n",
       "      <td>0.0</td>\n",
       "      <td>0.0</td>\n",
       "      <td>0.0</td>\n",
       "    </tr>\n",
       "  </tbody>\n",
       "</table>\n",
       "<p>5 rows × 24 columns</p>\n",
       "</div>"
      ],
      "text/plain": [
       "   metascore  userscore  Age  RelMonth  top_actors_count              genre  \\\n",
       "0         76      7.700    8         3                 1  Thriller/Suspense   \n",
       "1         61      6.900   12         9                 0              Drama   \n",
       "2         63      7.500   11         6                 0             Comedy   \n",
       "3         44      6.100    7         1                 0              Drama   \n",
       "4         65      6.886    9         5                 0              Drama   \n",
       "\n",
       "   worldwide_box_office  production_budget  theatre_count  \\\n",
       "0          1.082864e+08       1.500000e+07     3391.00000   \n",
       "1          9.876400e+05       3.642238e+07        3.00000   \n",
       "2          2.524796e+07       3.642238e+07       13.00000   \n",
       "3          3.070000e+02       3.642238e+07      723.14704   \n",
       "4          4.701900e+04       3.642238e+07      723.14704   \n",
       "\n",
       "   avg run per theatre  ...  rating_ MA-17  rating_ NC-17  rating_ NR  \\\n",
       "0             4.900000  ...            0.0            0.0         0.0   \n",
       "1             2.100000  ...            0.0            0.0         0.0   \n",
       "2             1.500000  ...            0.0            0.0         0.0   \n",
       "3             4.124562  ...            0.0            0.0         0.0   \n",
       "4             4.124562  ...            0.0            0.0         0.0   \n",
       "\n",
       "   rating_ Not Rated  rating_ PG-13  rating_ R  rating_ TV-14  rating_ TV-G  \\\n",
       "0                0.0            1.0        0.0            0.0           0.0   \n",
       "1                0.0            0.0        1.0            0.0           0.0   \n",
       "2                1.0            0.0        0.0            0.0           0.0   \n",
       "3                1.0            0.0        0.0            0.0           0.0   \n",
       "4                1.0            0.0        0.0            0.0           0.0   \n",
       "\n",
       "   rating_ TV-MA  rating_ TV-PG  \n",
       "0            0.0            0.0  \n",
       "1            0.0            0.0  \n",
       "2            0.0            0.0  \n",
       "3            0.0            0.0  \n",
       "4            0.0            0.0  \n",
       "\n",
       "[5 rows x 24 columns]"
      ]
     },
     "execution_count": 4,
     "metadata": {},
     "output_type": "execute_result"
    }
   ],
   "source": [
    "from sklearn.preprocessing import OneHotEncoder\n",
    "\n",
    "# Columns for One-Hot Encoding\n",
    "columns_to_encode = ['rating']\n",
    "\n",
    "# Extract the columns to be encoded\n",
    "data_to_encode = merged_df[columns_to_encode]\n",
    "\n",
    "# Create the OneHotEncoder instance\n",
    "one_hot_encoder = OneHotEncoder(sparse=False, drop='first')\n",
    "\n",
    "# Fit and transform the data using the encoder\n",
    "encoded_data = one_hot_encoder.fit_transform(data_to_encode)\n",
    "\n",
    "# Get the feature names after encoding\n",
    "encoded_column_names = one_hot_encoder.get_feature_names_out(columns_to_encode)\n",
    "\n",
    "# Create a DataFrame with the encoded data and appropriate column names\n",
    "encoded_df = pd.DataFrame(encoded_data, columns=encoded_column_names)\n",
    "\n",
    "# Concatenate the encoded DataFrame with the original DataFrame\n",
    "movie_df = pd.concat([merged_df.drop(columns=columns_to_encode), encoded_df], axis=1)\n",
    "\n",
    "# Display the updated DataFrame with encoded columns\n",
    "movie_df.head()"
   ]
  },
  {
   "cell_type": "code",
   "execution_count": 5,
   "metadata": {},
   "outputs": [],
   "source": [
    "# Removing the 'RelDate', 'year' and 'day' columns\n",
    "merged_df.drop(['worldwide_box_office', 'rating', 'metascore', 'userscore', 'Age', 'RelMonth', 'top_actors_count', 'genre'], inplace=True, axis=1)"
   ]
  },
  {
   "cell_type": "markdown",
   "metadata": {},
   "source": [
    "# 1. Creating the train, test, and validation splits & encoding"
   ]
  },
  {
   "cell_type": "code",
   "execution_count": 6,
   "metadata": {},
   "outputs": [
    {
     "name": "stdout",
     "output_type": "stream",
     "text": [
      "production_budget      float64\n",
      "theatre_count          float64\n",
      "avg run per theatre    float64\n",
      "runtime                float64\n",
      "profit                 float64\n",
      "dtype: object\n"
     ]
    }
   ],
   "source": [
    "# Display the data types of each column\n",
    "print(merged_df.dtypes)"
   ]
  },
  {
   "cell_type": "code",
   "execution_count": 7,
   "metadata": {},
   "outputs": [],
   "source": [
    "# Splitting the df in 20% testing and 80% fitting data points.\n",
    "X = merged_df.drop(['profit'], axis=1)\n",
    "y = merged_df['profit']\n",
    "\n",
    "# Splitting the dataset into training and testing sets into 80% training and 20% testing data\n",
    "X_train, X_test, y_train, y_test = train_test_split(X, y, test_size=0.2, random_state=42)\n",
    "\n",
    "# Further splitting  the fitting set into training and validation sets (80% train, 20% validation)\n",
    "# This means 80% of the fitting dataset is used for training and 20% for validation\n",
    "X_train, X_val, y_train, y_val = train_test_split(X_train, y_train, test_size=0.2, random_state=42)"
   ]
  },
  {
   "cell_type": "markdown",
   "metadata": {},
   "source": [
    "# 2. Encoding & Scaling "
   ]
  },
  {
   "cell_type": "markdown",
   "metadata": {},
   "source": [
    "## 2.1 Train dataset"
   ]
  },
  {
   "cell_type": "code",
   "execution_count": 8,
   "metadata": {},
   "outputs": [
    {
     "data": {
      "text/html": [
       "<div>\n",
       "<style scoped>\n",
       "    .dataframe tbody tr th:only-of-type {\n",
       "        vertical-align: middle;\n",
       "    }\n",
       "\n",
       "    .dataframe tbody tr th {\n",
       "        vertical-align: top;\n",
       "    }\n",
       "\n",
       "    .dataframe thead th {\n",
       "        text-align: right;\n",
       "    }\n",
       "</style>\n",
       "<table border=\"1\" class=\"dataframe\">\n",
       "  <thead>\n",
       "    <tr style=\"text-align: right;\">\n",
       "      <th></th>\n",
       "      <th>production_budget</th>\n",
       "      <th>theatre_count</th>\n",
       "      <th>avg run per theatre</th>\n",
       "      <th>runtime</th>\n",
       "    </tr>\n",
       "  </thead>\n",
       "  <tbody>\n",
       "    <tr>\n",
       "      <th>7487</th>\n",
       "      <td>3.642238e+07</td>\n",
       "      <td>723.14704</td>\n",
       "      <td>4.124562</td>\n",
       "      <td>82.0</td>\n",
       "    </tr>\n",
       "    <tr>\n",
       "      <th>3729</th>\n",
       "      <td>2.000000e+07</td>\n",
       "      <td>5.00000</td>\n",
       "      <td>7.200000</td>\n",
       "      <td>128.0</td>\n",
       "    </tr>\n",
       "    <tr>\n",
       "      <th>7302</th>\n",
       "      <td>3.642238e+07</td>\n",
       "      <td>1.00000</td>\n",
       "      <td>3.500000</td>\n",
       "      <td>85.0</td>\n",
       "    </tr>\n",
       "    <tr>\n",
       "      <th>7256</th>\n",
       "      <td>4.000000e+06</td>\n",
       "      <td>2700.00000</td>\n",
       "      <td>2.800000</td>\n",
       "      <td>88.0</td>\n",
       "    </tr>\n",
       "    <tr>\n",
       "      <th>459</th>\n",
       "      <td>3.642238e+07</td>\n",
       "      <td>51.00000</td>\n",
       "      <td>3.800000</td>\n",
       "      <td>90.0</td>\n",
       "    </tr>\n",
       "  </tbody>\n",
       "</table>\n",
       "</div>"
      ],
      "text/plain": [
       "      production_budget  theatre_count  avg run per theatre  runtime\n",
       "7487       3.642238e+07      723.14704             4.124562     82.0\n",
       "3729       2.000000e+07        5.00000             7.200000    128.0\n",
       "7302       3.642238e+07        1.00000             3.500000     85.0\n",
       "7256       4.000000e+06     2700.00000             2.800000     88.0\n",
       "459        3.642238e+07       51.00000             3.800000     90.0"
      ]
     },
     "execution_count": 8,
     "metadata": {},
     "output_type": "execute_result"
    }
   ],
   "source": [
    "# Display the first few rows of the final training DataFrame\n",
    "X_train.head()"
   ]
  },
  {
   "cell_type": "code",
   "execution_count": 9,
   "metadata": {},
   "outputs": [
    {
     "data": {
      "text/html": [
       "<div>\n",
       "<style scoped>\n",
       "    .dataframe tbody tr th:only-of-type {\n",
       "        vertical-align: middle;\n",
       "    }\n",
       "\n",
       "    .dataframe tbody tr th {\n",
       "        vertical-align: top;\n",
       "    }\n",
       "\n",
       "    .dataframe thead th {\n",
       "        text-align: right;\n",
       "    }\n",
       "</style>\n",
       "<table border=\"1\" class=\"dataframe\">\n",
       "  <thead>\n",
       "    <tr style=\"text-align: right;\">\n",
       "      <th></th>\n",
       "      <th>production_budget</th>\n",
       "      <th>theatre_count</th>\n",
       "      <th>avg run per theatre</th>\n",
       "      <th>runtime</th>\n",
       "    </tr>\n",
       "  </thead>\n",
       "  <tbody>\n",
       "    <tr>\n",
       "      <th>7487</th>\n",
       "      <td>-0.041748</td>\n",
       "      <td>-0.219710</td>\n",
       "      <td>-0.115449</td>\n",
       "      <td>-1.361141</td>\n",
       "    </tr>\n",
       "    <tr>\n",
       "      <th>3729</th>\n",
       "      <td>-0.590729</td>\n",
       "      <td>-0.795475</td>\n",
       "      <td>1.078786</td>\n",
       "      <td>1.680879</td>\n",
       "    </tr>\n",
       "    <tr>\n",
       "      <th>7302</th>\n",
       "      <td>-0.041748</td>\n",
       "      <td>-0.798682</td>\n",
       "      <td>-0.357974</td>\n",
       "      <td>-1.162748</td>\n",
       "    </tr>\n",
       "    <tr>\n",
       "      <th>7256</th>\n",
       "      <td>-1.125590</td>\n",
       "      <td>1.365206</td>\n",
       "      <td>-0.629794</td>\n",
       "      <td>-0.964356</td>\n",
       "    </tr>\n",
       "    <tr>\n",
       "      <th>459</th>\n",
       "      <td>-0.041748</td>\n",
       "      <td>-0.758595</td>\n",
       "      <td>-0.241480</td>\n",
       "      <td>-0.832094</td>\n",
       "    </tr>\n",
       "  </tbody>\n",
       "</table>\n",
       "</div>"
      ],
      "text/plain": [
       "      production_budget  theatre_count  avg run per theatre   runtime\n",
       "7487          -0.041748      -0.219710            -0.115449 -1.361141\n",
       "3729          -0.590729      -0.795475             1.078786  1.680879\n",
       "7302          -0.041748      -0.798682            -0.357974 -1.162748\n",
       "7256          -1.125590       1.365206            -0.629794 -0.964356\n",
       "459           -0.041748      -0.758595            -0.241480 -0.832094"
      ]
     },
     "execution_count": 9,
     "metadata": {},
     "output_type": "execute_result"
    }
   ],
   "source": [
    "# Scaling the X_train data\n",
    "# Initialize the StandardScaler\n",
    "standard_scaler = StandardScaler()\n",
    "\n",
    "# Columns to be scaled\n",
    "columns_to_scale = ['production_budget', 'theatre_count', 'avg run per theatre','runtime']\n",
    "\n",
    "# Fit the scaler on the specified columns of the training data\n",
    "standard_scaler.fit(X_test[columns_to_scale])\n",
    "\n",
    "# Transform these columns in the training set\n",
    "X_train_scaled_columns = standard_scaler.transform(X_train[columns_to_scale])\n",
    "\n",
    "# Replace the original columns in train_set with their scaled versions\n",
    "X_train[columns_to_scale] = X_train_scaled_columns\n",
    "\n",
    "\n",
    "# Displaying the X_train data\n",
    "X_train.head()"
   ]
  },
  {
   "cell_type": "code",
   "execution_count": 10,
   "metadata": {},
   "outputs": [
    {
     "data": {
      "text/plain": [
       "array([[-0.24984327],\n",
       "       [ 3.50370332],\n",
       "       [-0.24984327],\n",
       "       ...,\n",
       "       [-0.24984327],\n",
       "       [-0.22627701],\n",
       "       [-0.24984327]])"
      ]
     },
     "execution_count": 10,
     "metadata": {},
     "output_type": "execute_result"
    }
   ],
   "source": [
    "# Scaling the y_train data\n",
    "# Reshaping the values\n",
    "y_train.values.reshape(-1, 1)\n",
    "# Initialize the StandardScaler\n",
    "standard_scaler.fit(y_train.values.reshape(-1, 1))\n",
    "\n",
    "# Transform these columns in the training set &  replace the original columns in train_set with their scaled versions\n",
    "y_train_set = standard_scaler.transform(y_train.values.reshape(-1, 1))\n",
    "y_train_set"
   ]
  },
  {
   "cell_type": "markdown",
   "metadata": {},
   "source": [
    "## 2.2 Validation dataset"
   ]
  },
  {
   "cell_type": "code",
   "execution_count": 11,
   "metadata": {},
   "outputs": [
    {
     "data": {
      "text/html": [
       "<div>\n",
       "<style scoped>\n",
       "    .dataframe tbody tr th:only-of-type {\n",
       "        vertical-align: middle;\n",
       "    }\n",
       "\n",
       "    .dataframe tbody tr th {\n",
       "        vertical-align: top;\n",
       "    }\n",
       "\n",
       "    .dataframe thead th {\n",
       "        text-align: right;\n",
       "    }\n",
       "</style>\n",
       "<table border=\"1\" class=\"dataframe\">\n",
       "  <thead>\n",
       "    <tr style=\"text-align: right;\">\n",
       "      <th></th>\n",
       "      <th>production_budget</th>\n",
       "      <th>theatre_count</th>\n",
       "      <th>avg run per theatre</th>\n",
       "      <th>runtime</th>\n",
       "    </tr>\n",
       "  </thead>\n",
       "  <tbody>\n",
       "    <tr>\n",
       "      <th>1958</th>\n",
       "      <td>3.642238e+07</td>\n",
       "      <td>2.00000</td>\n",
       "      <td>3.500000</td>\n",
       "      <td>85.0</td>\n",
       "    </tr>\n",
       "    <tr>\n",
       "      <th>3201</th>\n",
       "      <td>1.800000e+07</td>\n",
       "      <td>1858.00000</td>\n",
       "      <td>2.800000</td>\n",
       "      <td>102.0</td>\n",
       "    </tr>\n",
       "    <tr>\n",
       "      <th>6302</th>\n",
       "      <td>4.800000e+07</td>\n",
       "      <td>3594.00000</td>\n",
       "      <td>4.600000</td>\n",
       "      <td>118.0</td>\n",
       "    </tr>\n",
       "    <tr>\n",
       "      <th>1987</th>\n",
       "      <td>3.642238e+07</td>\n",
       "      <td>723.14704</td>\n",
       "      <td>4.124562</td>\n",
       "      <td>126.0</td>\n",
       "    </tr>\n",
       "    <tr>\n",
       "      <th>3020</th>\n",
       "      <td>3.642238e+07</td>\n",
       "      <td>3.00000</td>\n",
       "      <td>2.800000</td>\n",
       "      <td>124.0</td>\n",
       "    </tr>\n",
       "  </tbody>\n",
       "</table>\n",
       "</div>"
      ],
      "text/plain": [
       "      production_budget  theatre_count  avg run per theatre  runtime\n",
       "1958       3.642238e+07        2.00000             3.500000     85.0\n",
       "3201       1.800000e+07     1858.00000             2.800000    102.0\n",
       "6302       4.800000e+07     3594.00000             4.600000    118.0\n",
       "1987       3.642238e+07      723.14704             4.124562    126.0\n",
       "3020       3.642238e+07        3.00000             2.800000    124.0"
      ]
     },
     "execution_count": 11,
     "metadata": {},
     "output_type": "execute_result"
    }
   ],
   "source": [
    "# Display the first few rows of the final validation DataFrame\n",
    "X_val.head()"
   ]
  },
  {
   "cell_type": "code",
   "execution_count": 12,
   "metadata": {},
   "outputs": [
    {
     "data": {
      "text/html": [
       "<div>\n",
       "<style scoped>\n",
       "    .dataframe tbody tr th:only-of-type {\n",
       "        vertical-align: middle;\n",
       "    }\n",
       "\n",
       "    .dataframe tbody tr th {\n",
       "        vertical-align: top;\n",
       "    }\n",
       "\n",
       "    .dataframe thead th {\n",
       "        text-align: right;\n",
       "    }\n",
       "</style>\n",
       "<table border=\"1\" class=\"dataframe\">\n",
       "  <thead>\n",
       "    <tr style=\"text-align: right;\">\n",
       "      <th></th>\n",
       "      <th>production_budget</th>\n",
       "      <th>theatre_count</th>\n",
       "      <th>avg run per theatre</th>\n",
       "      <th>runtime</th>\n",
       "    </tr>\n",
       "  </thead>\n",
       "  <tbody>\n",
       "    <tr>\n",
       "      <th>1958</th>\n",
       "      <td>-0.042725</td>\n",
       "      <td>-0.756947</td>\n",
       "      <td>-0.352704</td>\n",
       "      <td>-1.109280</td>\n",
       "    </tr>\n",
       "    <tr>\n",
       "      <th>3201</th>\n",
       "      <td>-0.659184</td>\n",
       "      <td>0.753131</td>\n",
       "      <td>-0.634110</td>\n",
       "      <td>-0.053793</td>\n",
       "    </tr>\n",
       "    <tr>\n",
       "      <th>6302</th>\n",
       "      <td>0.344692</td>\n",
       "      <td>2.165574</td>\n",
       "      <td>0.089507</td>\n",
       "      <td>0.939606</td>\n",
       "    </tr>\n",
       "    <tr>\n",
       "      <th>1987</th>\n",
       "      <td>-0.042725</td>\n",
       "      <td>-0.170208</td>\n",
       "      <td>-0.101624</td>\n",
       "      <td>1.436305</td>\n",
       "    </tr>\n",
       "    <tr>\n",
       "      <th>3020</th>\n",
       "      <td>-0.042725</td>\n",
       "      <td>-0.756133</td>\n",
       "      <td>-0.634110</td>\n",
       "      <td>1.312130</td>\n",
       "    </tr>\n",
       "  </tbody>\n",
       "</table>\n",
       "</div>"
      ],
      "text/plain": [
       "      production_budget  theatre_count  avg run per theatre   runtime\n",
       "1958          -0.042725      -0.756947            -0.352704 -1.109280\n",
       "3201          -0.659184       0.753131            -0.634110 -0.053793\n",
       "6302           0.344692       2.165574             0.089507  0.939606\n",
       "1987          -0.042725      -0.170208            -0.101624  1.436305\n",
       "3020          -0.042725      -0.756133            -0.634110  1.312130"
      ]
     },
     "execution_count": 12,
     "metadata": {},
     "output_type": "execute_result"
    }
   ],
   "source": [
    "# Scaling the X_val data\n",
    "# Initialize the StandardScaler\n",
    "standard_scaler = StandardScaler()\n",
    "\n",
    "# Columns to be scaled\n",
    "columns_to_scale = ['production_budget', 'theatre_count', 'avg run per theatre','runtime']\n",
    "\n",
    "# Fit the scaler on the specified columns of the validation data\n",
    "standard_scaler.fit(X_val[columns_to_scale])\n",
    "\n",
    "# Transform these columns in the validation set\n",
    "X_val_scaled_columns = standard_scaler.transform(X_val[columns_to_scale])\n",
    "\n",
    "# Replace the original columns in val_set with their scaled versions\n",
    "X_val[columns_to_scale] = X_val_scaled_columns\n",
    "\n",
    "# Displaying the X_train data\n",
    "X_val.head()"
   ]
  },
  {
   "cell_type": "code",
   "execution_count": 13,
   "metadata": {},
   "outputs": [
    {
     "data": {
      "text/plain": [
       "array([[-0.22549104],\n",
       "       [-0.14712269],\n",
       "       [ 2.15936131],\n",
       "       ...,\n",
       "       [ 0.17375642],\n",
       "       [-0.22549104],\n",
       "       [-0.43137001]])"
      ]
     },
     "execution_count": 13,
     "metadata": {},
     "output_type": "execute_result"
    }
   ],
   "source": [
    "# Scaling the y_val data\n",
    "# Reshaping the values\n",
    "y_val.values.reshape(-1, 1)\n",
    "# Initialize the StandardScaler\n",
    "standard_scaler.fit(y_val.values.reshape(-1, 1))\n",
    "\n",
    "# Transform these columns in the training set &  replace the original columns in train_set with their scaled versions\n",
    "y_val_set = standard_scaler.transform(y_val.values.reshape(-1, 1))\n",
    "y_val_set"
   ]
  },
  {
   "cell_type": "markdown",
   "metadata": {},
   "source": [
    "## 2.3 Test dataset"
   ]
  },
  {
   "cell_type": "code",
   "execution_count": 14,
   "metadata": {},
   "outputs": [
    {
     "data": {
      "text/html": [
       "<div>\n",
       "<style scoped>\n",
       "    .dataframe tbody tr th:only-of-type {\n",
       "        vertical-align: middle;\n",
       "    }\n",
       "\n",
       "    .dataframe tbody tr th {\n",
       "        vertical-align: top;\n",
       "    }\n",
       "\n",
       "    .dataframe thead th {\n",
       "        text-align: right;\n",
       "    }\n",
       "</style>\n",
       "<table border=\"1\" class=\"dataframe\">\n",
       "  <thead>\n",
       "    <tr style=\"text-align: right;\">\n",
       "      <th></th>\n",
       "      <th>production_budget</th>\n",
       "      <th>theatre_count</th>\n",
       "      <th>avg run per theatre</th>\n",
       "      <th>runtime</th>\n",
       "    </tr>\n",
       "  </thead>\n",
       "  <tbody>\n",
       "    <tr>\n",
       "      <th>4561</th>\n",
       "      <td>3.642238e+07</td>\n",
       "      <td>2.00000</td>\n",
       "      <td>7.400000</td>\n",
       "      <td>82.000000</td>\n",
       "    </tr>\n",
       "    <tr>\n",
       "      <th>7067</th>\n",
       "      <td>2.000000e+08</td>\n",
       "      <td>4045.00000</td>\n",
       "      <td>6.800000</td>\n",
       "      <td>169.000000</td>\n",
       "    </tr>\n",
       "    <tr>\n",
       "      <th>2272</th>\n",
       "      <td>1.500000e+07</td>\n",
       "      <td>1751.00000</td>\n",
       "      <td>2.700000</td>\n",
       "      <td>110.000000</td>\n",
       "    </tr>\n",
       "    <tr>\n",
       "      <th>4525</th>\n",
       "      <td>3.642238e+07</td>\n",
       "      <td>723.14704</td>\n",
       "      <td>4.124562</td>\n",
       "      <td>81.000000</td>\n",
       "    </tr>\n",
       "    <tr>\n",
       "      <th>518</th>\n",
       "      <td>3.642238e+07</td>\n",
       "      <td>7.00000</td>\n",
       "      <td>7.800000</td>\n",
       "      <td>101.502993</td>\n",
       "    </tr>\n",
       "  </tbody>\n",
       "</table>\n",
       "</div>"
      ],
      "text/plain": [
       "      production_budget  theatre_count  avg run per theatre     runtime\n",
       "4561       3.642238e+07        2.00000             7.400000   82.000000\n",
       "7067       2.000000e+08     4045.00000             6.800000  169.000000\n",
       "2272       1.500000e+07     1751.00000             2.700000  110.000000\n",
       "4525       3.642238e+07      723.14704             4.124562   81.000000\n",
       "518        3.642238e+07        7.00000             7.800000  101.502993"
      ]
     },
     "execution_count": 14,
     "metadata": {},
     "output_type": "execute_result"
    }
   ],
   "source": [
    "# Display the first few rows of the final training DataFrame\n",
    "X_test.head()"
   ]
  },
  {
   "cell_type": "code",
   "execution_count": 15,
   "metadata": {},
   "outputs": [],
   "source": [
    "# Scaling the X_test data\n",
    "# Initialize the StandardScaler\n",
    "standard_scaler = StandardScaler()\n",
    "\n",
    "# Columns to be scaled\n",
    "columns_to_scale = ['production_budget', 'theatre_count', 'avg run per theatre','runtime']\n",
    "\n",
    "# Fit the scaler on the specified columns of the training data\n",
    "standard_scaler.fit(X_test[columns_to_scale])\n",
    "\n",
    "# Transform these columns in the training set\n",
    "X_test_scaled_columns = standard_scaler.transform(X_test[columns_to_scale])\n",
    "\n",
    "# Replace the original columns in test_set with their scaled versions\n",
    "X_test[columns_to_scale] = X_test_scaled_columns"
   ]
  },
  {
   "cell_type": "code",
   "execution_count": 16,
   "metadata": {},
   "outputs": [
    {
     "data": {
      "text/plain": [
       "array([[-0.44757312],\n",
       "       [ 6.27346098],\n",
       "       [-0.13501882],\n",
       "       ...,\n",
       "       [-0.24899046],\n",
       "       [-0.42454713],\n",
       "       [-0.18821449]])"
      ]
     },
     "execution_count": 16,
     "metadata": {},
     "output_type": "execute_result"
    }
   ],
   "source": [
    "# Scaling the y_test data\n",
    "# Reshaping the values\n",
    "y_test.values.reshape(-1, 1)\n",
    "# Initialize the StandardScaler\n",
    "standard_scaler.fit(y_test.values.reshape(-1, 1))\n",
    "\n",
    "# Transform these columns in the training set & replace the original columns in test_set with their scaled versions\n",
    "y_test_set = standard_scaler.transform(y_test.values.reshape(-1, 1))\n",
    "y_test_set"
   ]
  },
  {
   "cell_type": "markdown",
   "metadata": {},
   "source": [
    "# 3. Data Concatenation and Quality Check for Training-Validation Sets"
   ]
  },
  {
   "cell_type": "code",
   "execution_count": 17,
   "metadata": {},
   "outputs": [],
   "source": [
    "# Concatenate training and validation features along the rows, resetting index to avoid duplicate indices\n",
    "X_train_validation = pd.concat([X_train.reset_index(drop=True), X_val.reset_index(drop=True)], axis=0)\n",
    "\n",
    "# Concatenate training and validation target variables using NumPy\n",
    "y_train_validation = np.concatenate([y_train_set, y_val_set], axis=0)\n",
    "\n",
    "# Check for any null (missing) values in the concatenated features\n",
    "x_null_check = X_train_validation.isnull().values.any()\n",
    "\n",
    "# Check for any NaN (Not a Number) values in the concatenated target variable\n",
    "y_null_check = np.isnan(y_train_validation).any()"
   ]
  },
  {
   "cell_type": "code",
   "execution_count": 18,
   "metadata": {},
   "outputs": [],
   "source": [
    "# Get the column order from 'X_test'\n",
    "column_order = X_test.columns.tolist()\n",
    "\n",
    "# Reorder 'X_train_validation' to match 'X_test'\n",
    "X_train_validation = X_train_validation[column_order]"
   ]
  },
  {
   "cell_type": "code",
   "execution_count": 19,
   "metadata": {},
   "outputs": [
    {
     "data": {
      "text/html": [
       "<div>\n",
       "<style scoped>\n",
       "    .dataframe tbody tr th:only-of-type {\n",
       "        vertical-align: middle;\n",
       "    }\n",
       "\n",
       "    .dataframe tbody tr th {\n",
       "        vertical-align: top;\n",
       "    }\n",
       "\n",
       "    .dataframe thead th {\n",
       "        text-align: right;\n",
       "    }\n",
       "</style>\n",
       "<table border=\"1\" class=\"dataframe\">\n",
       "  <thead>\n",
       "    <tr style=\"text-align: right;\">\n",
       "      <th></th>\n",
       "      <th>profit</th>\n",
       "    </tr>\n",
       "  </thead>\n",
       "  <tbody>\n",
       "    <tr>\n",
       "      <th>0</th>\n",
       "      <td>-0.249843</td>\n",
       "    </tr>\n",
       "    <tr>\n",
       "      <th>1</th>\n",
       "      <td>3.503703</td>\n",
       "    </tr>\n",
       "    <tr>\n",
       "      <th>2</th>\n",
       "      <td>-0.249843</td>\n",
       "    </tr>\n",
       "    <tr>\n",
       "      <th>3</th>\n",
       "      <td>0.032915</td>\n",
       "    </tr>\n",
       "    <tr>\n",
       "      <th>4</th>\n",
       "      <td>-0.249843</td>\n",
       "    </tr>\n",
       "    <tr>\n",
       "      <th>...</th>\n",
       "      <td>...</td>\n",
       "    </tr>\n",
       "    <tr>\n",
       "      <th>7170</th>\n",
       "      <td>-0.141440</td>\n",
       "    </tr>\n",
       "    <tr>\n",
       "      <th>7171</th>\n",
       "      <td>1.184436</td>\n",
       "    </tr>\n",
       "    <tr>\n",
       "      <th>7172</th>\n",
       "      <td>0.173756</td>\n",
       "    </tr>\n",
       "    <tr>\n",
       "      <th>7173</th>\n",
       "      <td>-0.225491</td>\n",
       "    </tr>\n",
       "    <tr>\n",
       "      <th>7174</th>\n",
       "      <td>-0.431370</td>\n",
       "    </tr>\n",
       "  </tbody>\n",
       "</table>\n",
       "<p>7175 rows × 1 columns</p>\n",
       "</div>"
      ],
      "text/plain": [
       "        profit\n",
       "0    -0.249843\n",
       "1     3.503703\n",
       "2    -0.249843\n",
       "3     0.032915\n",
       "4    -0.249843\n",
       "...        ...\n",
       "7170 -0.141440\n",
       "7171  1.184436\n",
       "7172  0.173756\n",
       "7173 -0.225491\n",
       "7174 -0.431370\n",
       "\n",
       "[7175 rows x 1 columns]"
      ]
     },
     "execution_count": 19,
     "metadata": {},
     "output_type": "execute_result"
    }
   ],
   "source": [
    "# Convert the y_train_validation NumPy array to a pandas DataFrame\n",
    "y_train_validation_df = pd.DataFrame(y_train_validation, columns=['profit'])\n",
    "\n",
    "# Display the DataFrame\n",
    "y_train_validation_df"
   ]
  },
  {
   "cell_type": "markdown",
   "metadata": {},
   "source": [
    "# 4. Modelling"
   ]
  },
  {
   "cell_type": "markdown",
   "metadata": {},
   "source": [
    "## 4.1 Random Forest"
   ]
  },
  {
   "cell_type": "markdown",
   "metadata": {},
   "source": [
    "### 4.1.1 Fitting model & hyperparametertuning"
   ]
  },
  {
   "cell_type": "code",
   "execution_count": 20,
   "metadata": {},
   "outputs": [
    {
     "data": {
      "text/html": [
       "<div>\n",
       "<style scoped>\n",
       "    .dataframe tbody tr th:only-of-type {\n",
       "        vertical-align: middle;\n",
       "    }\n",
       "\n",
       "    .dataframe tbody tr th {\n",
       "        vertical-align: top;\n",
       "    }\n",
       "\n",
       "    .dataframe thead th {\n",
       "        text-align: right;\n",
       "    }\n",
       "</style>\n",
       "<table border=\"1\" class=\"dataframe\">\n",
       "  <thead>\n",
       "    <tr style=\"text-align: right;\">\n",
       "      <th></th>\n",
       "      <th>production_budget</th>\n",
       "      <th>theatre_count</th>\n",
       "      <th>avg run per theatre</th>\n",
       "      <th>runtime</th>\n",
       "    </tr>\n",
       "  </thead>\n",
       "  <tbody>\n",
       "    <tr>\n",
       "      <th>0</th>\n",
       "      <td>-0.041748</td>\n",
       "      <td>-0.219710</td>\n",
       "      <td>-0.115449</td>\n",
       "      <td>-1.361141</td>\n",
       "    </tr>\n",
       "    <tr>\n",
       "      <th>1</th>\n",
       "      <td>-0.590729</td>\n",
       "      <td>-0.795475</td>\n",
       "      <td>1.078786</td>\n",
       "      <td>1.680879</td>\n",
       "    </tr>\n",
       "    <tr>\n",
       "      <th>2</th>\n",
       "      <td>-0.041748</td>\n",
       "      <td>-0.798682</td>\n",
       "      <td>-0.357974</td>\n",
       "      <td>-1.162748</td>\n",
       "    </tr>\n",
       "    <tr>\n",
       "      <th>3</th>\n",
       "      <td>-1.125590</td>\n",
       "      <td>1.365206</td>\n",
       "      <td>-0.629794</td>\n",
       "      <td>-0.964356</td>\n",
       "    </tr>\n",
       "    <tr>\n",
       "      <th>4</th>\n",
       "      <td>-0.041748</td>\n",
       "      <td>-0.758595</td>\n",
       "      <td>-0.241480</td>\n",
       "      <td>-0.832094</td>\n",
       "    </tr>\n",
       "    <tr>\n",
       "      <th>...</th>\n",
       "      <td>...</td>\n",
       "      <td>...</td>\n",
       "      <td>...</td>\n",
       "      <td>...</td>\n",
       "    </tr>\n",
       "    <tr>\n",
       "      <th>1430</th>\n",
       "      <td>-1.194585</td>\n",
       "      <td>-0.716266</td>\n",
       "      <td>-0.473307</td>\n",
       "      <td>-0.084651</td>\n",
       "    </tr>\n",
       "    <tr>\n",
       "      <th>1431</th>\n",
       "      <td>-0.592259</td>\n",
       "      <td>-0.743115</td>\n",
       "      <td>2.622169</td>\n",
       "      <td>1.870917</td>\n",
       "    </tr>\n",
       "    <tr>\n",
       "      <th>1432</th>\n",
       "      <td>0.244304</td>\n",
       "      <td>1.379617</td>\n",
       "      <td>-0.191900</td>\n",
       "      <td>1.684655</td>\n",
       "    </tr>\n",
       "    <tr>\n",
       "      <th>1433</th>\n",
       "      <td>-0.042725</td>\n",
       "      <td>-0.170208</td>\n",
       "      <td>-0.101624</td>\n",
       "      <td>-1.419717</td>\n",
       "    </tr>\n",
       "    <tr>\n",
       "      <th>1434</th>\n",
       "      <td>-0.042725</td>\n",
       "      <td>-0.756947</td>\n",
       "      <td>-0.392905</td>\n",
       "      <td>-0.084651</td>\n",
       "    </tr>\n",
       "  </tbody>\n",
       "</table>\n",
       "<p>7175 rows × 4 columns</p>\n",
       "</div>"
      ],
      "text/plain": [
       "      production_budget  theatre_count  avg run per theatre   runtime\n",
       "0             -0.041748      -0.219710            -0.115449 -1.361141\n",
       "1             -0.590729      -0.795475             1.078786  1.680879\n",
       "2             -0.041748      -0.798682            -0.357974 -1.162748\n",
       "3             -1.125590       1.365206            -0.629794 -0.964356\n",
       "4             -0.041748      -0.758595            -0.241480 -0.832094\n",
       "...                 ...            ...                  ...       ...\n",
       "1430          -1.194585      -0.716266            -0.473307 -0.084651\n",
       "1431          -0.592259      -0.743115             2.622169  1.870917\n",
       "1432           0.244304       1.379617            -0.191900  1.684655\n",
       "1433          -0.042725      -0.170208            -0.101624 -1.419717\n",
       "1434          -0.042725      -0.756947            -0.392905 -0.084651\n",
       "\n",
       "[7175 rows x 4 columns]"
      ]
     },
     "execution_count": 20,
     "metadata": {},
     "output_type": "execute_result"
    }
   ],
   "source": [
    "X_train_validation"
   ]
  },
  {
   "cell_type": "code",
   "execution_count": 21,
   "metadata": {},
   "outputs": [
    {
     "name": "stdout",
     "output_type": "stream",
     "text": [
      "['production_budget', 'theatre_count', 'avg run per theatre', 'runtime']\n"
     ]
    }
   ],
   "source": [
    "column_list = X_train_validation.columns.tolist()\n",
    "print(column_list)"
   ]
  },
  {
   "cell_type": "markdown",
   "metadata": {},
   "source": [
    "Grid Search will be done on the follwoing hyperparameters:\n",
    "\n",
    "n_estimators: Number of trees in the forest\n",
    "\n",
    "max_depth: Maximum depth (splits) of the individual decision trees\n",
    "\n",
    "min_samples_split: Minimum number of samples (datapoints) required to split an internal node.\n",
    "\n",
    "min_samples_leaf: Minimum number of samples (datapoints) required to be at a leaf node."
   ]
  },
  {
   "cell_type": "code",
   "execution_count": 22,
   "metadata": {},
   "outputs": [
    {
     "name": "stderr",
     "output_type": "stream",
     "text": [
      "c:\\Users\\leath\\anaconda3\\python\\Lib\\site-packages\\sklearn\\base.py:1151: DataConversionWarning: A column-vector y was passed when a 1d array was expected. Please change the shape of y to (n_samples,), for example using ravel().\n"
     ]
    },
    {
     "name": "stdout",
     "output_type": "stream",
     "text": [
      "Best Estimator (Finer Grid): RandomForestRegressor(max_depth=10, min_samples_leaf=2, min_samples_split=5,\n",
      "                      n_estimators=60, n_jobs=-1, random_state=1)\n",
      "Best Score (Finer Grid): -0.22675623802403638\n"
     ]
    }
   ],
   "source": [
    "from sklearn.model_selection import GridSearchCV\n",
    "from sklearn.ensemble import RandomForestRegressor\n",
    "\n",
    "# Your RandomForestRegressor definition\n",
    "rf = RandomForestRegressor(n_jobs=-1, random_state=1)\n",
    "\n",
    "# Hyperparameter grid for finer search\n",
    "param_grid_finer = {\n",
    "    \"n_estimators\": [x for x in range(10, 200, 10)],\n",
    "    \"max_depth\": [x for x in range(5, 21, 5)],\n",
    "    'min_samples_split': [2, 5],\n",
    "    'min_samples_leaf': [1, 2],\n",
    "}\n",
    "\n",
    "# Create a GridSearchCV object with RandomForestRegressor\n",
    "grid_search_rf_finer = GridSearchCV(\n",
    "    rf,\n",
    "    param_grid=param_grid_finer,\n",
    "    scoring='neg_mean_squared_error',\n",
    "    n_jobs=-1,\n",
    "    cv=5  # Number of cross-validation folds\n",
    ")\n",
    "\n",
    "# Fit the model\n",
    "_ = grid_search_rf_finer.fit(X_train_validation, y_train_validation)\n",
    "\n",
    "# Get the best estimator and score\n",
    "best_estimator_finer = grid_search_rf_finer.best_estimator_\n",
    "best_score_finer = grid_search_rf_finer.best_score_\n",
    "\n",
    "# Output the results\n",
    "print(\"Best Estimator (Finer Grid):\", best_estimator_finer)\n",
    "print(\"Best Score (Finer Grid):\", best_score_finer)"
   ]
  },
  {
   "cell_type": "markdown",
   "metadata": {},
   "source": [
    "With the best hyperparameters found, the model will be tested."
   ]
  },
  {
   "cell_type": "markdown",
   "metadata": {},
   "source": [
    "### 4.1.2 Testing the model"
   ]
  },
  {
   "cell_type": "markdown",
   "metadata": {},
   "source": [
    "As the problem is a regression problem, evaluation metrics such as Mean Squared Error, Mean Absolute Error, Root Mean Squared Error and R-Aquared Error will be used.\n",
    "\n",
    "Mean Squared Error (MSE):\n",
    "    MSE measures the average squared difference between the actual and predicted values.\n",
    "        \n",
    "Mean Absolute Error (MAE):\n",
    "    MAE measures the average absolute difference between the actual and predicted values.\n",
    "\n",
    "Root Mean Squared Error (RMSE):\n",
    "    RMSE is the square root of the MSE and provides an interpretable scale similar to the original target variable.\n",
    "\n",
    "R-squared (R²):\n",
    "    R² represents the proportion of the variance in the dependent variable that is predictable from the independent variable(s)."
   ]
  },
  {
   "cell_type": "code",
   "execution_count": 23,
   "metadata": {},
   "outputs": [
    {
     "name": "stdout",
     "output_type": "stream",
     "text": [
      "Mean Squared Error: 4441099251958181.0\n",
      "Mean Absolute Error: 24157887.062397715\n",
      "Root Mean Squared Error: 66641573.00032901\n",
      "R-squared: 0.7231571498527061\n"
     ]
    }
   ],
   "source": [
    "from sklearn.model_selection import GridSearchCV\n",
    "\n",
    "# Predictions using the trained Random Forest model on the test set\n",
    "y_hat_test = grid_search_rf_finer.predict(X_test)\n",
    "\n",
    "# Transforming predicted and actual values back to the original scale using inverse scaling\n",
    "y_test_set_original_scale = standard_scaler.inverse_transform(y_test_set.reshape(-1, 1)).flatten()\n",
    "y_hat_test_original_scale = standard_scaler.inverse_transform(y_hat_test.reshape(-1, 1)).flatten()\n",
    "\n",
    "# Calculate Mean Squared Error (MSE) between actual and predicted values\n",
    "mse = mean_squared_error(y_test_set_original_scale, y_hat_test_original_scale)\n",
    "print(\"Mean Squared Error:\", mse)\n",
    "\n",
    "# Calculate Mean Absolute Error (MAE) between actual and predicted values\n",
    "mae = mean_absolute_error(y_test_set_original_scale, y_hat_test_original_scale)\n",
    "print(\"Mean Absolute Error:\", mae)\n",
    "\n",
    "# Calculate Root Mean Squared Error (RMSE) between actual and predicted values\n",
    "rmse = np.sqrt(mean_squared_error(y_test_set_original_scale, y_hat_test_original_scale))\n",
    "print(\"Root Mean Squared Error:\", rmse)\n",
    "\n",
    "# Calculate R-squared (coefficient of determination) between actual and predicted values\n",
    "r_squared = r2_score(y_test_set_original_scale, y_hat_test_original_scale)\n",
    "print(\"R-squared:\", r_squared)"
   ]
  },
  {
   "cell_type": "markdown",
   "metadata": {},
   "source": [
    "**Conclusion:**\n",
    "\n",
    "Mean Squared Error (MSE):\n",
    "        The quite large MSE value indicates that, on average, the squared differences between the actual and predicted profit values are substantial. This suggests that the model may have difficulty accurately predicting the precise numerical values of profit figures.\n",
    "\n",
    "Mean Absolute Error (MAE):\n",
    "        The MAE value suggests that, on average, the model's predictions are about 24,157,887 units away from the actual profit values. While this is a significant amount, the profit range is pretty wide, ranging between a min of 158,089,800 and a max of 2,608,900,000.\n",
    "\n",
    "Root Mean Squared Error (RMSE):\n",
    "        The RMSE value indicates the standard deviation of the prediction errors. This suggests that the majority of the model's prediction errors fall within ±66,641,573 units of the actual profit values. \n",
    "\n",
    "R-squared (R²):\n",
    "        The R² value of 0.7231 indicates that the model explains approximately 72.31% of the variability in the profit data. While this suggests a reasonably good fit, there is still a considerable portion of unexplained variability."
   ]
  },
  {
   "cell_type": "code",
   "execution_count": 24,
   "metadata": {},
   "outputs": [
    {
     "data": {
      "text/plain": [
       "count    8.969000e+03\n",
       "mean     1.798105e+07\n",
       "std      1.187871e+08\n",
       "min     -1.580898e+08\n",
       "25%     -2.852238e+07\n",
       "50%     -1.117442e+07\n",
       "75%      9.767275e+06\n",
       "max      2.608900e+09\n",
       "Name: profit, dtype: float64"
      ]
     },
     "execution_count": 24,
     "metadata": {},
     "output_type": "execute_result"
    }
   ],
   "source": [
    "# Putting the results in context \n",
    "# Getting more information about the data\n",
    "merged_df['profit'].describe()"
   ]
  },
  {
   "cell_type": "code",
   "execution_count": 25,
   "metadata": {},
   "outputs": [
    {
     "data": {
      "image/png": "[encoded data removed]",
      "text/plain": [
       "<Figure size 1000x600 with 1 Axes>"
      ]
     },
     "metadata": {},
     "output_type": "display_data"
    }
   ],
   "source": [
    "from sklearn.model_selection import learning_curve\n",
    "\n",
    "def plot_learning_curve(estimator, X, y, cv, train_sizes=np.linspace(.1, 1.0, 5)):\n",
    "    \n",
    "    train_sizes, train_scores, validation_scores = learning_curve(\n",
    "        estimator, X, y, cv=cv, train_sizes=train_sizes, scoring='neg_mean_squared_error', n_jobs=-1\n",
    "    )\n",
    "\n",
    "    train_scores_mean = -np.mean(train_scores, axis=1)\n",
    "    validation_scores_mean = -np.mean(validation_scores, axis=1)\n",
    "\n",
    "    plt.figure(figsize=(10, 6))\n",
    "    plt.plot(train_sizes, train_scores_mean, label='Training Error')\n",
    "    plt.plot(train_sizes, validation_scores_mean, label='Validation Error')\n",
    "\n",
    "    plt.title('Learning Curve')\n",
    "    plt.xlabel('Training Examples')\n",
    "    plt.ylabel('Mean Squared Error')\n",
    "    plt.legend()\n",
    "    plt.show()\n",
    "\n",
    "# Assuming you have your RandomForestRegressor 'best_estimator', X_train, and y_train_validation\n",
    "plot_learning_curve(best_estimator_finer, X_train_validation, y_train_validation, cv=5)"
   ]
  },
  {
   "cell_type": "markdown",
   "metadata": {},
   "source": [
    "From the learning rate we can see that the validation error goes down over time and gets closer to the training error but never reaches it. The validation error is computed on a dataset that the model has not seen during training. It serves as a measure of how well the model generalizes to new, unseen data. AS visible from the learning rate but also the previous results, the accuracy of the model to predict on unseen data, could be better."
   ]
  },
  {
   "cell_type": "code",
   "execution_count": 26,
   "metadata": {},
   "outputs": [
    {
     "data": {
      "image/png": "[encoded data removed]",
      "text/plain": [
       "<Figure size 1000x600 with 1 Axes>"
      ]
     },
     "metadata": {},
     "output_type": "display_data"
    }
   ],
   "source": [
    "# Plotting the results\n",
    "# Inverse transform to original scale\n",
    "y_test_set_original = standard_scaler.inverse_transform(y_test_set.reshape(-1, 1)).flatten()\n",
    "y_hat_test_original = standard_scaler.inverse_transform(y_hat_test.reshape(-1, 1)).flatten()\n",
    "\n",
    "# Scatter plot of Actual vs. Predicted values on original scale\n",
    "plt.figure(figsize=(10, 6))\n",
    "plt.scatter(y_test_set_original, y_hat_test_original, alpha=0.5)\n",
    "plt.title('Actual vs. Predicted Profit')\n",
    "plt.xlabel('Actual Profit')\n",
    "plt.ylabel('Predicted Profit')\n",
    "\n",
    "# Plot a line for perfect predictions\n",
    "plt.plot([y_test_set_original.min(), y_test_set_original.max()], \n",
    "         [y_test_set_original.min(), y_test_set_original.max()], 'k--', lw=3)\n",
    "plt.show()"
   ]
  },
  {
   "cell_type": "markdown",
   "metadata": {},
   "source": [
    "**Conclusion:** The lower the values the better the prediction but the higher the values the less accurate the predictions are. Especially the predictions of the 3 highest profit values are far away from the actual values. The more spread the datapints are the less acccurate the predictions. IF the model would have a 100% accuracy, the points would all be lying on the line. This spread as seen in the graph indicates that the models predictions are not that precise and could be improved. This could for example be done by removing more outliers like the 3 highest profit datapoints. "
   ]
  },
  {
   "cell_type": "markdown",
   "metadata": {},
   "source": [
    "## 4.2 Artificial Neural Network"
   ]
  },
  {
   "cell_type": "code",
   "execution_count": 27,
   "metadata": {},
   "outputs": [
    {
     "name": "stdout",
     "output_type": "stream",
     "text": [
      "The number of neurons for the input layer must be: 4\n"
     ]
    }
   ],
   "source": [
    "print(f\"The number of neurons for the input layer must be: {X_train.shape[1]}\")"
   ]
  },
  {
   "cell_type": "code",
   "execution_count": 28,
   "metadata": {},
   "outputs": [
    {
     "name": "stdout",
     "output_type": "stream",
     "text": [
      "WARNING:tensorflow:From c:\\Users\\leath\\anaconda3\\python\\Lib\\site-packages\\keras\\backend.py:873: The name tf.get_default_graph is deprecated. Please use tf.compat.v1.get_default_graph instead.\n",
      "\n",
      "Model: \"sequential\"\n",
      "_________________________________________________________________\n",
      " Layer (type)                Output Shape              Param #   \n",
      "=================================================================\n",
      " dense (Dense)               (None, 64)                320       \n",
      "                                                                 \n",
      " dense_1 (Dense)             (None, 256)               16640     \n",
      "                                                                 \n",
      " dense_2 (Dense)             (None, 512)               131584    \n",
      "                                                                 \n",
      " dense_3 (Dense)             (None, 1)                 513       \n",
      "                                                                 \n",
      "=================================================================\n",
      "Total params: 149,057\n",
      "Trainable params: 149,057\n",
      "Non-trainable params: 0\n",
      "_________________________________________________________________\n",
      "None\n"
     ]
    }
   ],
   "source": [
    "from keras import regularizers\n",
    "\n",
    "# Define the neural network model class instance\n",
    "# Create the model\n",
    "simple_nn = Sequential()\n",
    "\n",
    "# Add the first layer with L2 regularization\n",
    "simple_nn.add(Dense(64, input_dim=X_train.shape[1], activation='relu', kernel_regularizer=regularizers.l2(0.03))) \n",
    "\n",
    "# Adding a hidden layer with L2 regularization\n",
    "simple_nn.add(Dense(256, activation='relu', kernel_regularizer=regularizers.l2(0.03)))  \n",
    "\n",
    "# Adding a hidden layer with L2 regularization\n",
    "simple_nn.add(Dense(512, activation='relu', kernel_regularizer=regularizers.l2(0.03)))  \n",
    "\n",
    "# Add the output layer\n",
    "simple_nn.add(Dense(1, activation='linear'))\n",
    "\n",
    "# Configure the Adam optimizer with a custom learning rate\n",
    "adam = Adam(learning_rate=0.01)\n",
    "\n",
    "# Compile the model\n",
    "simple_nn.compile(loss='mean_squared_error', optimizer=adam)\n",
    "\n",
    "# Print model summary\n",
    "print(simple_nn.summary())\n"
   ]
  },
  {
   "cell_type": "markdown",
   "metadata": {},
   "source": [
    "### 4.2.1 Fitting the training dataset"
   ]
  },
  {
   "cell_type": "code",
   "execution_count": 29,
   "metadata": {},
   "outputs": [
    {
     "data": {
      "text/plain": [
       "(5740, 4)"
      ]
     },
     "execution_count": 29,
     "metadata": {},
     "output_type": "execute_result"
    }
   ],
   "source": [
    "# Checking the shape of the data\n",
    "X_train.shape"
   ]
  },
  {
   "cell_type": "code",
   "execution_count": 30,
   "metadata": {},
   "outputs": [
    {
     "data": {
      "text/plain": [
       "(5740, 1)"
      ]
     },
     "execution_count": 30,
     "metadata": {},
     "output_type": "execute_result"
    }
   ],
   "source": [
    "y_train_set.shape"
   ]
  },
  {
   "cell_type": "code",
   "execution_count": 31,
   "metadata": {},
   "outputs": [
    {
     "data": {
      "text/plain": [
       "(7175, 4)"
      ]
     },
     "execution_count": 31,
     "metadata": {},
     "output_type": "execute_result"
    }
   ],
   "source": [
    "X_train_validation.shape"
   ]
  },
  {
   "cell_type": "code",
   "execution_count": 32,
   "metadata": {},
   "outputs": [
    {
     "data": {
      "text/plain": [
       "(7175, 1)"
      ]
     },
     "execution_count": 32,
     "metadata": {},
     "output_type": "execute_result"
    }
   ],
   "source": [
    "y_train_validation.shape"
   ]
  },
  {
   "cell_type": "code",
   "execution_count": 33,
   "metadata": {},
   "outputs": [
    {
     "name": "stdout",
     "output_type": "stream",
     "text": [
      "Epoch 1/50\n",
      "WARNING:tensorflow:From c:\\Users\\leath\\anaconda3\\python\\Lib\\site-packages\\keras\\utils\\tf_utils.py:490: The name tf.ragged.RaggedTensorValue is deprecated. Please use tf.compat.v1.ragged.RaggedTensorValue instead.\n",
      "\n",
      "287/287 [==============================] - 4s 4ms/step - loss: 0.9260\n",
      "Epoch 2/50\n",
      "287/287 [==============================] - 1s 4ms/step - loss: 0.7218\n",
      "Epoch 3/50\n",
      "287/287 [==============================] - 1s 5ms/step - loss: 0.6008\n",
      "Epoch 4/50\n",
      "287/287 [==============================] - 1s 3ms/step - loss: 0.5829\n",
      "Epoch 5/50\n",
      "287/287 [==============================] - 1s 3ms/step - loss: 0.5430\n",
      "Epoch 6/50\n",
      "287/287 [==============================] - 1s 3ms/step - loss: 0.5725\n",
      "Epoch 7/50\n",
      "287/287 [==============================] - 1s 3ms/step - loss: 0.5247\n",
      "Epoch 8/50\n",
      "287/287 [==============================] - 1s 3ms/step - loss: 0.5255\n",
      "Epoch 9/50\n",
      "287/287 [==============================] - 1s 4ms/step - loss: 0.5261\n",
      "Epoch 10/50\n",
      "287/287 [==============================] - 1s 3ms/step - loss: 0.5282\n",
      "Epoch 11/50\n",
      "287/287 [==============================] - 1s 3ms/step - loss: 0.5058\n",
      "Epoch 12/50\n",
      "287/287 [==============================] - 1s 3ms/step - loss: 0.5673\n",
      "Epoch 13/50\n",
      "287/287 [==============================] - 1s 3ms/step - loss: 0.5119\n",
      "Epoch 14/50\n",
      "287/287 [==============================] - 1s 3ms/step - loss: 0.4602\n",
      "Epoch 15/50\n",
      "287/287 [==============================] - 1s 3ms/step - loss: 0.4772\n",
      "Epoch 16/50\n",
      "287/287 [==============================] - 1s 3ms/step - loss: 0.4801\n",
      "Epoch 17/50\n",
      "287/287 [==============================] - 1s 3ms/step - loss: 0.4817\n",
      "Epoch 18/50\n",
      "287/287 [==============================] - 1s 3ms/step - loss: 0.4563\n",
      "Epoch 19/50\n",
      "287/287 [==============================] - 1s 3ms/step - loss: 0.5201\n",
      "Epoch 20/50\n",
      "287/287 [==============================] - 1s 2ms/step - loss: 0.4798\n",
      "Epoch 21/50\n",
      "287/287 [==============================] - 1s 2ms/step - loss: 0.4307\n",
      "Epoch 22/50\n",
      "287/287 [==============================] - 1s 2ms/step - loss: 0.4083\n",
      "Epoch 23/50\n",
      "287/287 [==============================] - 1s 2ms/step - loss: 0.4870\n",
      "Epoch 24/50\n",
      "287/287 [==============================] - 1s 2ms/step - loss: 0.4546\n",
      "Epoch 25/50\n",
      "287/287 [==============================] - 1s 2ms/step - loss: 0.4587\n",
      "Epoch 26/50\n",
      "287/287 [==============================] - 1s 2ms/step - loss: 0.4700\n",
      "Epoch 27/50\n",
      "287/287 [==============================] - 1s 2ms/step - loss: 0.4504\n",
      "Epoch 28/50\n",
      "287/287 [==============================] - 1s 2ms/step - loss: 0.4416\n",
      "Epoch 29/50\n",
      "287/287 [==============================] - 1s 2ms/step - loss: 0.4648\n",
      "Epoch 30/50\n",
      "287/287 [==============================] - 1s 2ms/step - loss: 0.4512\n",
      "Epoch 31/50\n",
      "287/287 [==============================] - 1s 2ms/step - loss: 0.4284\n",
      "Epoch 32/50\n",
      "287/287 [==============================] - 1s 2ms/step - loss: 0.4143\n",
      "Epoch 33/50\n",
      "287/287 [==============================] - 1s 2ms/step - loss: 0.5046\n",
      "Epoch 34/50\n",
      "287/287 [==============================] - 1s 2ms/step - loss: 0.4452\n",
      "Epoch 35/50\n",
      "287/287 [==============================] - 1s 2ms/step - loss: 0.4302\n",
      "Epoch 36/50\n",
      "287/287 [==============================] - 1s 3ms/step - loss: 0.4461\n",
      "Epoch 37/50\n",
      "287/287 [==============================] - 1s 2ms/step - loss: 0.4249\n",
      "Epoch 38/50\n",
      "287/287 [==============================] - 1s 2ms/step - loss: 0.4308\n",
      "Epoch 39/50\n",
      "287/287 [==============================] - 1s 2ms/step - loss: 0.4276\n",
      "Epoch 40/50\n",
      "287/287 [==============================] - 1s 2ms/step - loss: 0.4623\n",
      "Epoch 41/50\n",
      "287/287 [==============================] - 1s 2ms/step - loss: 0.4071\n",
      "Epoch 42/50\n",
      "287/287 [==============================] - 1s 3ms/step - loss: 0.4045\n",
      "Epoch 43/50\n",
      "287/287 [==============================] - 1s 2ms/step - loss: 0.4679\n",
      "Epoch 44/50\n",
      "287/287 [==============================] - 1s 2ms/step - loss: 0.4468\n",
      "Epoch 45/50\n",
      "287/287 [==============================] - 1s 2ms/step - loss: 0.4346\n",
      "Epoch 46/50\n",
      "287/287 [==============================] - 1s 2ms/step - loss: 0.4020\n",
      "Epoch 47/50\n",
      "287/287 [==============================] - 1s 2ms/step - loss: 0.4089\n",
      "Epoch 48/50\n",
      "287/287 [==============================] - 1s 2ms/step - loss: 0.3928\n",
      "Epoch 49/50\n",
      "287/287 [==============================] - 1s 2ms/step - loss: 0.3870\n",
      "Epoch 50/50\n",
      "287/287 [==============================] - 1s 2ms/step - loss: 0.4120\n"
     ]
    },
    {
     "data": {
      "text/plain": [
       "<keras.callbacks.History at 0x20326756310>"
      ]
     },
     "execution_count": 33,
     "metadata": {},
     "output_type": "execute_result"
    }
   ],
   "source": [
    "# Training a simple neural network using the fit method\n",
    "simple_nn.fit(X_train, y_train_set, epochs=50, batch_size = 20)"
   ]
  },
  {
   "cell_type": "code",
   "execution_count": 34,
   "metadata": {},
   "outputs": [
    {
     "data": {
      "image/png": "[encoded data removed]",
      "text/plain": [
       "<Figure size 640x480 with 1 Axes>"
      ]
     },
     "metadata": {
      "image/png": {
       "height": 480,
       "width": 640
      }
     },
     "output_type": "display_data"
    },
    {
     "data": {
      "text/plain": [
       "<Figure Size: (640 x 480)>"
      ]
     },
     "execution_count": 34,
     "metadata": {},
     "output_type": "execute_result"
    }
   ],
   "source": [
    "# see what information has been logged during the training process\n",
    "simple_nn.history.history.keys()\n",
    "\n",
    "# plot the training loss over epochs\n",
    "loss_df = pd.DataFrame(simple_nn.history.history['loss'])\n",
    "loss_df.columns = ['loss']\n",
    "loss_df = loss_df.assign(epoch = np.arange(1, 51))\n",
    "\n",
    "(\n",
    "    ggplot(loss_df, aes(x='epoch', y='loss')) +\n",
    "    geom_point()\n",
    ")"
   ]
  },
  {
   "cell_type": "markdown",
   "metadata": {},
   "source": [
    "**Conclusion:** We can see on this graph that the loss os going down the more epochs the data is trained on. As the model goes through multiple epochs, it learns to recognize patterns and relationships in the training data. Initially, the model's predictions is far from the actual values, leading to a higher loss. With each epoch, the model fine-tunes its parameters, gradually improving its ability to make accurate predictions."
   ]
  },
  {
   "cell_type": "markdown",
   "metadata": {},
   "source": [
    "### 4.2.2 Evaluate on validation dataset"
   ]
  },
  {
   "cell_type": "code",
   "execution_count": 35,
   "metadata": {},
   "outputs": [
    {
     "name": "stdout",
     "output_type": "stream",
     "text": [
      "Epoch 1/50\n",
      "287/287 [==============================] - 1s 4ms/step - loss: 0.4065 - val_loss: 0.3663\n",
      "Epoch 2/50\n",
      "287/287 [==============================] - 1s 4ms/step - loss: 0.4328 - val_loss: 0.4285\n",
      "Epoch 3/50\n",
      "287/287 [==============================] - 1s 4ms/step - loss: 0.4100 - val_loss: 0.3873\n",
      "Epoch 4/50\n",
      "287/287 [==============================] - 1s 4ms/step - loss: 0.3879 - val_loss: 0.5735\n",
      "Epoch 5/50\n",
      "287/287 [==============================] - 1s 4ms/step - loss: 0.4009 - val_loss: 0.4698\n",
      "Epoch 6/50\n",
      "287/287 [==============================] - 1s 4ms/step - loss: 0.4425 - val_loss: 0.4133\n",
      "Epoch 7/50\n",
      "287/287 [==============================] - 1s 4ms/step - loss: 0.4190 - val_loss: 0.3593\n",
      "Epoch 8/50\n",
      "287/287 [==============================] - 1s 4ms/step - loss: 0.3910 - val_loss: 0.4607\n",
      "Epoch 9/50\n",
      "287/287 [==============================] - 1s 4ms/step - loss: 0.4056 - val_loss: 0.4134\n",
      "Epoch 10/50\n",
      "287/287 [==============================] - 1s 4ms/step - loss: 0.4703 - val_loss: 0.4525\n",
      "Epoch 11/50\n",
      "287/287 [==============================] - 1s 4ms/step - loss: 0.4878 - val_loss: 0.3966\n",
      "Epoch 12/50\n",
      "287/287 [==============================] - 1s 4ms/step - loss: 0.4080 - val_loss: 0.3734\n",
      "Epoch 13/50\n",
      "287/287 [==============================] - 1s 4ms/step - loss: 0.3917 - val_loss: 0.4648\n",
      "Epoch 14/50\n",
      "287/287 [==============================] - 2s 5ms/step - loss: 0.4066 - val_loss: 0.3596\n",
      "Epoch 15/50\n",
      "287/287 [==============================] - 2s 7ms/step - loss: 0.3876 - val_loss: 0.4706\n",
      "Epoch 16/50\n",
      "287/287 [==============================] - 2s 6ms/step - loss: 0.3860 - val_loss: 0.3600\n",
      "Epoch 17/50\n",
      "287/287 [==============================] - 2s 5ms/step - loss: 0.4019 - val_loss: 0.3611\n",
      "Epoch 18/50\n",
      "287/287 [==============================] - 1s 5ms/step - loss: 0.3853 - val_loss: 0.3592\n",
      "Epoch 19/50\n",
      "287/287 [==============================] - 1s 5ms/step - loss: 0.3838 - val_loss: 0.3514\n",
      "Epoch 20/50\n",
      "287/287 [==============================] - 1s 5ms/step - loss: 0.4686 - val_loss: 0.5062\n",
      "Epoch 21/50\n",
      "287/287 [==============================] - 1s 5ms/step - loss: 0.5332 - val_loss: 0.4984\n",
      "Epoch 22/50\n",
      "287/287 [==============================] - 1s 4ms/step - loss: 0.4324 - val_loss: 0.3820\n",
      "Epoch 23/50\n",
      "287/287 [==============================] - 1s 4ms/step - loss: 0.3884 - val_loss: 0.4058\n",
      "Epoch 24/50\n",
      "287/287 [==============================] - 1s 4ms/step - loss: 0.3901 - val_loss: 0.3694\n",
      "Epoch 25/50\n",
      "287/287 [==============================] - 1s 4ms/step - loss: 0.3995 - val_loss: 0.3697\n",
      "Epoch 26/50\n",
      "287/287 [==============================] - 1s 4ms/step - loss: 0.3977 - val_loss: 0.5009\n",
      "Epoch 27/50\n",
      "287/287 [==============================] - 1s 5ms/step - loss: 0.4187 - val_loss: 0.4295\n",
      "Epoch 28/50\n",
      "287/287 [==============================] - 1s 5ms/step - loss: 0.4162 - val_loss: 0.3963\n",
      "Epoch 29/50\n",
      "287/287 [==============================] - 1s 5ms/step - loss: 0.3874 - val_loss: 0.4871\n",
      "Epoch 30/50\n",
      "287/287 [==============================] - 1s 4ms/step - loss: 0.3938 - val_loss: 0.3631\n",
      "Epoch 31/50\n",
      "287/287 [==============================] - 1s 5ms/step - loss: 0.3798 - val_loss: 0.4495\n",
      "Epoch 32/50\n",
      "287/287 [==============================] - 1s 5ms/step - loss: 0.3983 - val_loss: 0.4097\n",
      "Epoch 33/50\n",
      "287/287 [==============================] - 1s 5ms/step - loss: 0.4012 - val_loss: 0.3816\n",
      "Epoch 34/50\n",
      "287/287 [==============================] - 1s 5ms/step - loss: 0.3870 - val_loss: 0.3980\n",
      "Epoch 35/50\n",
      "287/287 [==============================] - 1s 4ms/step - loss: 0.3885 - val_loss: 0.3557\n",
      "Epoch 36/50\n",
      "287/287 [==============================] - 1s 4ms/step - loss: 0.4566 - val_loss: 0.8624\n",
      "Epoch 37/50\n",
      "287/287 [==============================] - 1s 4ms/step - loss: 0.5267 - val_loss: 0.4417\n",
      "Epoch 38/50\n",
      "287/287 [==============================] - 1s 4ms/step - loss: 0.4816 - val_loss: 0.4350\n",
      "Epoch 39/50\n",
      "287/287 [==============================] - 1s 4ms/step - loss: 0.4328 - val_loss: 0.4027\n",
      "Epoch 40/50\n",
      "287/287 [==============================] - 1s 4ms/step - loss: 0.4140 - val_loss: 0.3989\n",
      "Epoch 41/50\n",
      "287/287 [==============================] - 1s 4ms/step - loss: 0.4089 - val_loss: 0.4198\n",
      "Epoch 42/50\n",
      "287/287 [==============================] - 1s 4ms/step - loss: 0.4294 - val_loss: 0.4032\n",
      "Epoch 43/50\n",
      "287/287 [==============================] - 1s 4ms/step - loss: 0.4134 - val_loss: 0.3952\n",
      "Epoch 44/50\n",
      "287/287 [==============================] - 1s 5ms/step - loss: 0.4421 - val_loss: 0.4025\n",
      "Epoch 45/50\n",
      "287/287 [==============================] - 1s 5ms/step - loss: 0.4070 - val_loss: 0.3854\n",
      "Epoch 46/50\n",
      "287/287 [==============================] - 1s 5ms/step - loss: 0.4213 - val_loss: 0.4265\n",
      "Epoch 47/50\n",
      "287/287 [==============================] - 1s 5ms/step - loss: 0.4273 - val_loss: 0.3978\n",
      "Epoch 48/50\n",
      "287/287 [==============================] - 1s 5ms/step - loss: 0.4203 - val_loss: 0.3913\n",
      "Epoch 49/50\n",
      "287/287 [==============================] - 1s 5ms/step - loss: 0.4213 - val_loss: 0.4418\n",
      "Epoch 50/50\n",
      "287/287 [==============================] - 1s 5ms/step - loss: 0.4222 - val_loss: 0.4144\n"
     ]
    },
    {
     "data": {
      "text/plain": [
       "<keras.callbacks.History at 0x2032bafb550>"
      ]
     },
     "execution_count": 35,
     "metadata": {},
     "output_type": "execute_result"
    }
   ],
   "source": [
    "# Training the neural network with validation data using the fit method\n",
    "simple_nn.fit(X_train, y_train_set, epochs=50, batch_size = 20, validation_data=(X_train_validation, y_train_validation))"
   ]
  },
  {
   "cell_type": "code",
   "execution_count": 36,
   "metadata": {},
   "outputs": [
    {
     "data": {
      "image/png": "[encoded data removed]",
      "text/plain": [
       "<Figure size 640x480 with 1 Axes>"
      ]
     },
     "metadata": {
      "image/png": {
       "height": 480,
       "width": 640
      }
     },
     "output_type": "display_data"
    },
    {
     "data": {
      "text/plain": [
       "<Figure Size: (640 x 480)>"
      ]
     },
     "execution_count": 36,
     "metadata": {},
     "output_type": "execute_result"
    }
   ],
   "source": [
    "from plotnine import ggplot, aes, geom_point, scale_x_continuous, labs\n",
    "\n",
    "# plot the training loss over epochs\n",
    "def plot_loss(nn_model):\n",
    "    loss_df = pd.DataFrame({\n",
    "        'train_loss': nn_model.history.history['loss'],\n",
    "        'val_loss': nn_model.history.history['val_loss']\n",
    "    })\n",
    "    loss_df = loss_df.assign(epoch=np.arange(1, 51))\n",
    "\n",
    "    p = (\n",
    "        ggplot(loss_df) +\n",
    "        geom_point(aes(x='epoch', y='train_loss'), color='green') +\n",
    "        geom_point(aes(x='epoch', y='val_loss'), color='red') +\n",
    "        scale_x_continuous(breaks=list(range(0, 150, 10))) +\n",
    "        labs(y=\"Loss\")\n",
    "    )\n",
    "    return p\n",
    "\n",
    "plot_loss(simple_nn)\n"
   ]
  },
  {
   "cell_type": "markdown",
   "metadata": {},
   "source": [
    "**Conclusion:** The term \"loss\" typically refers to the error between the model's predictions and the actual target values. A lower loss indicates better alignment between predictions and actual outcomes. The loss of the validation data is red and the one from the training data green. The loss is not really different from each dataset and it´s quite spread in both cases. This suggests that the model is performing similarly on both datasets in terms of minimizing the loss. This could also imply that there is some variability or noise in the data, leading to fluctuations in the loss values during training and validation. A certain amount of spread in the loss curves is normal, especially if the dataset is diverse or contains inherent variability. However, excessive spread might indicate challenges in model convergence or potential sensitivity to certain data points. The fact that the loss is not markedly different between training and validation datasets is a positive sign. It suggests that the model is not overfitting to the training data and is generalizing reasonably well to new, unseen data. The spread in the loss curves could be due to factors like the complexity of the model, the nature of the data, or the presence of outliers."
   ]
  },
  {
   "cell_type": "code",
   "execution_count": 37,
   "metadata": {},
   "outputs": [
    {
     "name": "stdout",
     "output_type": "stream",
     "text": [
      "INFO:tensorflow:Assets written to: ../dataset/simple_nn_model\\assets\n"
     ]
    },
    {
     "name": "stderr",
     "output_type": "stream",
     "text": [
      "INFO:tensorflow:Assets written to: ../dataset/simple_nn_model\\assets\n"
     ]
    },
    {
     "name": "stdout",
     "output_type": "stream",
     "text": [
      "Storing the fitting history of simple nn to disk\n"
     ]
    }
   ],
   "source": [
    "# Save the trained neural network model to disk\n",
    "simple_nn.save('../dataset/simple_nn_model')\n",
    "\n",
    "# Store the fitting history of the simple neural network to disk\n",
    "print(\"Storing the fitting history of simple nn to disk\")\n",
    "with open('../dataset/simple_nn_history.json', 'w') as handle:\n",
    "    json.dump(simple_nn.history.history, handle)"
   ]
  },
  {
   "cell_type": "markdown",
   "metadata": {},
   "source": [
    "### 4.2.3 Train model on train & validation dataset and make predictions on test set"
   ]
  },
  {
   "cell_type": "code",
   "execution_count": 38,
   "metadata": {},
   "outputs": [
    {
     "data": {
      "text/plain": [
       "array([[-0.44757312],\n",
       "       [ 6.27346098],\n",
       "       [-0.13501882],\n",
       "       ...,\n",
       "       [-0.24899046],\n",
       "       [-0.42454713],\n",
       "       [-0.18821449]])"
      ]
     },
     "execution_count": 38,
     "metadata": {},
     "output_type": "execute_result"
    }
   ],
   "source": [
    "# showing the y of the test set. This variable contains the true or actual target values corresponding to the test set.\n",
    "y_test_set"
   ]
  },
  {
   "cell_type": "code",
   "execution_count": 39,
   "metadata": {},
   "outputs": [
    {
     "name": "stdout",
     "output_type": "stream",
     "text": [
      "57/57 [==============================] - 0s 2ms/step\n",
      "Mean Squared Error: 0.41780211166328385\n",
      "Mean Absolute Error: 0.22527560160891505\n",
      "Root Mean Squared Error: 0.6463761379129677\n",
      "R-squared: 0.5821978883367163\n"
     ]
    }
   ],
   "source": [
    "# Create the model\n",
    "nn = Sequential()\n",
    "\n",
    "# Add the first layer \n",
    "nn.add(Dense(64, input_dim=X_train.shape[1], activation='relu', kernel_regularizer=regularizers.l2(0.03))) \n",
    "\n",
    "# Adding a hidden layer \n",
    "nn.add(Dense(256, activation='relu', kernel_regularizer=regularizers.l2(0.03)))  \n",
    "\n",
    "# Adding a hidden layer\n",
    "nn.add(Dense(512, activation='relu', kernel_regularizer=regularizers.l2(0.03)))  \n",
    "\n",
    "# Add the output layer\n",
    "nn.add(Dense(1, activation='linear'))\n",
    "\n",
    "# Configure the Adam optimizer with a custom learning rate\n",
    "adam = Adam(learning_rate=0.01)\n",
    "\n",
    "# Compile the model\n",
    "nn.compile(loss='mean_squared_error', optimizer=adam)\n",
    "\n",
    "# Train the neural network\n",
    "nn.fit(X_train_validation, y_train_validation, epochs=50, batch_size=20, verbose=0)\n",
    "\n",
    "history = nn.fit(X_train_validation, y_train_validation, epochs=50, batch_size=20, verbose=0)\n",
    "\n",
    "# Make predictions on the test set\n",
    "y_hat_test_nn = nn.predict(X_test)\n",
    "\n",
    "# Calculate Mean Squared Error (MSE) between actual and predicted values\n",
    "mse_nn = mean_squared_error(y_test_set, y_hat_test_nn)\n",
    "print(\"Mean Squared Error:\", mse_nn)\n",
    "\n",
    "# Calculate Mean Absolute Error (MAE) between actual and predicted values\n",
    "mae_nn = mean_absolute_error(y_test_set, y_hat_test_nn)\n",
    "print(\"Mean Absolute Error:\", mae_nn)\n",
    "\n",
    "# Calculate Root Mean Squared Error (RMSE) between actual and predicted values\n",
    "rmse_nn = np.sqrt(mean_squared_error(y_test_set, y_hat_test_nn))\n",
    "print(\"Root Mean Squared Error:\", rmse_nn)\n",
    "\n",
    "# Calculate R-squared (coefficient of determination) between actual and predicted values\n",
    "r_squared_nn = r2_score(y_test_set, y_hat_test_nn)\n",
    "print(\"R-squared:\", r_squared_nn)\n"
   ]
  },
  {
   "cell_type": "markdown",
   "metadata": {},
   "source": [
    "Conclusion:\n",
    "\n",
    "Mean Squared Error (MSE): An MSE of 0.4178 indicates a relatively small average squared error. Lower MSE values are generally better, signifying that the model's predictions are close to the actual values on average.\n",
    "\n",
    "Mean Absolute Error (MAE): With an MAE of 0.2253, it indicates that, on average, the model's predictions deviate by this amount from the true values. Similar to MSE, lower MAE values are desirable.\n",
    "\n",
    "Root Mean Squared Error (RMSE): An RMSE of 0.6464 suggests that, on average, the model's predictions differ by approximately 0.6464 units from the true values. Again, lower RMSE values are preferred.\n",
    "\n",
    "R-squared (R²): An R² of 0.5822 indicates that the model explains approximately 58.22% of the variance in the target variable. A higher R² value suggests a better fit. \n",
    "\n",
    "Overall, the model seems to be performing reasonably well, as indicated by the relatively low values of MSE, MAE, and RMSE. It suggests that, on average, the model's predictions are close to the actual values.\n",
    "\n",
    "The R-squared value of 58.22% indicates a moderate level of explained variance. It suggests that the model captures a significant portion of the variability in the target variable but may not account for all factors influencing it."
   ]
  },
  {
   "cell_type": "markdown",
   "metadata": {},
   "source": [
    "### 4.2.4 Hyperparametertuning"
   ]
  },
  {
   "cell_type": "markdown",
   "metadata": {},
   "source": [
    "To improve the models performance, hyperparametertuning will be performed.\n",
    "\n",
    "First on epochs, batch size on number of neurons.\n",
    "\n",
    "Epoch:  An epoch refers to one complete pass through the entire training dataset. During each epoch, the model processes all training examples, makes predictions, computes the loss, and updates its parameters to minimize the loss.\n",
    "\n",
    "Batch size: The batch size is a hyperparameter that defines the number of training examples utilized in one iteration (one forward and one backward pass) during the training process of a neural network.\n",
    "\n",
    "Number of neurons: The number of neurons (or units) in a layer represents the dimensionality of the layer's output space."
   ]
  },
  {
   "cell_type": "code",
   "execution_count": 40,
   "metadata": {},
   "outputs": [
    {
     "name": "stdout",
     "output_type": "stream",
     "text": [
      "Fitting 3 folds for each of 8 candidates, totalling 24 fits\n"
     ]
    },
    {
     "name": "stderr",
     "output_type": "stream",
     "text": [
      "C:\\Users\\leath\\AppData\\Local\\Temp\\ipykernel_24436\\3263345932.py:33: DeprecationWarning: KerasRegressor is deprecated, use Sci-Keras (https://github.com/adriangb/scikeras) instead. See https://www.adriangb.com/scikeras/stable/migration.html for help migrating.\n"
     ]
    },
    {
     "name": "stdout",
     "output_type": "stream",
     "text": [
      "Best Parameters: {'batch_size': 10, 'epochs': 150, 'neurons': 20}\n",
      "Best MSE: 0.6079103944260962\n",
      "Best MAE: 0.33605018167643735\n",
      "Best RMSE: 0.745881474813522\n",
      "Best R-squared: 0.41935859553416605\n"
     ]
    }
   ],
   "source": [
    "from keras.models import Sequential\n",
    "from keras.layers import Dense\n",
    "from keras.optimizers import Adam\n",
    "from keras import regularizers\n",
    "from sklearn.model_selection import GridSearchCV\n",
    "from sklearn.metrics import make_scorer, mean_squared_error, mean_absolute_error, r2_score\n",
    "import numpy as np\n",
    "from keras.wrappers.scikit_learn import KerasRegressor\n",
    "\n",
    "# Define the model creation function\n",
    "def create_model(layers=2, neurons=256, learning_rate=0.01):\n",
    "    model = Sequential()\n",
    "    model.add(Dense(64, input_dim=X_train.shape[1], activation='relu', kernel_regularizer=regularizers.l2(0.03)))\n",
    "\n",
    "    for _ in range(layers):\n",
    "        model.add(Dense(neurons, activation='relu', kernel_regularizer=regularizers.l2(0.03)))\n",
    "\n",
    "    model.add(Dense(1, activation='linear'))\n",
    "    \n",
    "    adam = Adam(learning_rate=learning_rate)\n",
    "    model.compile(loss='mean_squared_error', optimizer=adam)\n",
    "    \n",
    "    return model\n",
    "\n",
    "# Define the parameter grid for hyperparameter tuning\n",
    "param_grid = {\n",
    "    'epochs': [100, 150],\n",
    "    'batch_size': [10, 20],\n",
    "    'neurons': [20, 30]\n",
    "}\n",
    "\n",
    "# Create the KerasRegressor wrapper for scikit-learn\n",
    "model = KerasRegressor(build_fn=create_model, verbose=0)\n",
    "\n",
    "# Define the scoring metrics\n",
    "scoring = {\n",
    "    'mse': make_scorer(mean_squared_error),\n",
    "    'mae': make_scorer(mean_absolute_error),\n",
    "    'rmse': make_scorer(lambda y_true, y_pred: np.sqrt(mean_squared_error(y_true, y_pred))),\n",
    "    'r2': make_scorer(r2_score)\n",
    "}\n",
    "\n",
    "# Perform GridSearchCV\n",
    "grid = GridSearchCV(estimator=model, param_grid=param_grid, scoring=scoring, refit='mse', cv=3, verbose=1)\n",
    "grid_result = grid.fit(X_train_validation, y_train_validation)\n",
    "\n",
    "# Print the best parameters and results\n",
    "print(\"Best Parameters:\", grid_result.best_params_)\n",
    "print(\"Best MSE:\", grid_result.best_score_)\n",
    "print(\"Best MAE:\", grid_result.cv_results_['mean_test_mae'][grid_result.best_index_])\n",
    "print(\"Best RMSE:\", grid_result.cv_results_['mean_test_rmse'][grid_result.best_index_])\n",
    "print(\"Best R-squared:\", grid_result.cv_results_['mean_test_r2'][grid_result.best_index_])\n"
   ]
  },
  {
   "cell_type": "markdown",
   "metadata": {},
   "source": [
    "Best Parameters: {'batch_size': 10, 'epochs': 150, 'neurons': 20}\n",
    "\n",
    "Best MSE: 0.6079103944260962\n",
    "\n",
    "Best MAE: 0.33605018167643735\n",
    "\n",
    "Best RMSE: 0.745881474813522\n",
    "\n",
    "Best R-squared: 0.41935859553416605"
   ]
  },
  {
   "cell_type": "markdown",
   "metadata": {},
   "source": [
    "Before evaluating the measures, another hyperparametertuning will be done for number of layers and learning rate.\n",
    "\n",
    "Number of layers: The number of layers in a neural network refers to the count of distinct layers, such as input layers, hidden layers, and output layers. Each layer contains a certain number of neurons or units, and these layers are connected by weights.\n",
    "\n",
    "Learning rate: The learning rate controls the size of the steps taken during the optimization process. It determines how much the model's parameters (weights and biases) are updated in the direction that minimizes the loss function."
   ]
  },
  {
   "cell_type": "code",
   "execution_count": 41,
   "metadata": {},
   "outputs": [
    {
     "name": "stderr",
     "output_type": "stream",
     "text": [
      "C:\\Users\\leath\\AppData\\Local\\Temp\\ipykernel_24436\\1847635283.py:20: DeprecationWarning: KerasRegressor is deprecated, use Sci-Keras (https://github.com/adriangb/scikeras) instead. See https://www.adriangb.com/scikeras/stable/migration.html for help migrating.\n"
     ]
    },
    {
     "name": "stdout",
     "output_type": "stream",
     "text": [
      "Fitting 3 folds for each of 4 candidates, totalling 12 fits\n",
      "Best parameters found:  {'layers': 2, 'learning_rate': 0.001}\n",
      "Lowest RMSE found:  0.5258705825752389\n",
      "Best Model Mean Squared Error: 0.2415015393166772\n",
      "Best Model Mean Absolute Error: 0.20740701280149365\n",
      "Best Model Root Mean Squared Error: 0.4914280611815703\n",
      "Best Model R-squared: 0.7584984606833228\n"
     ]
    }
   ],
   "source": [
    "from sklearn.model_selection import GridSearchCV\n",
    "from keras.wrappers.scikit_learn import KerasRegressor\n",
    "\n",
    "# Define a function to create the model\n",
    "def create_model(layers=2, neurons_per_layer=20, learning_rate=0.01, l2_reg=0.03):\n",
    "    model = Sequential()\n",
    "    model.add(Dense(neurons_per_layer, input_dim=X_train.shape[1], activation='relu', kernel_regularizer=regularizers.l2(l2_reg)))\n",
    "    \n",
    "    for _ in range(layers - 1):\n",
    "        model.add(Dense(neurons_per_layer, activation='relu', kernel_regularizer=regularizers.l2(l2_reg)))\n",
    "    \n",
    "    model.add(Dense(1, activation='linear'))\n",
    "    \n",
    "    adam = Adam(learning_rate=learning_rate)\n",
    "    model.compile(loss='mean_squared_error', optimizer=adam)\n",
    "    \n",
    "    return model\n",
    "\n",
    "# Create a KerasRegressor with the create_model function\n",
    "model = KerasRegressor(build_fn=create_model, epochs=100, batch_size=10, verbose=0)\n",
    "\n",
    "# Define the hyperparameters to search\n",
    "param_grid = {\n",
    "    'layers': [2, 3],\n",
    "    'learning_rate': [0.001, 0.01],\n",
    "}\n",
    "\n",
    "# Create the GridSearchCV object\n",
    "grid = GridSearchCV(estimator=model, param_grid=param_grid, scoring='neg_mean_squared_error', cv=3, verbose=1)\n",
    "\n",
    "# Fit the GridSearchCV object to the training data\n",
    "grid_result = grid.fit(X_train_validation, y_train_validation)\n",
    "\n",
    "# Print the best parameters and corresponding mean test score\n",
    "print(\"Best parameters found: \", grid_result.best_params_)\n",
    "print(\"Lowest RMSE found: \", np.sqrt(-grid_result.best_score_))\n",
    "\n",
    "# Get the best model\n",
    "best_model = grid_result.best_estimator_\n",
    "\n",
    "# Make predictions on the test set using the best model\n",
    "y_hat_test_best = best_model.predict(X_test)\n",
    "\n",
    "# Calculate metrics with the best model\n",
    "mse_best = mean_squared_error(y_test_set, y_hat_test_best)\n",
    "mae_best = mean_absolute_error(y_test_set, y_hat_test_best)\n",
    "rmse_best = np.sqrt(mse_best)\n",
    "r_squared_best = r2_score(y_test_set, y_hat_test_best)\n",
    "\n",
    "# Print metrics\n",
    "print(\"Best Model Mean Squared Error:\", mse_best)\n",
    "print(\"Best Model Mean Absolute Error:\", mae_best)\n",
    "print(\"Best Model Root Mean Squared Error:\", rmse_best)\n",
    "print(\"Best Model R-squared:\", r_squared_best)"
   ]
  },
  {
   "cell_type": "markdown",
   "metadata": {},
   "source": [
    "Best parameters found:  {'layers': 2, 'learning_rate': 0.001}\n",
    "\n",
    "Lowest RMSE found:  0.5258705825752389\n",
    "\n",
    "Best Model Mean Squared Error: 0.2415015393166772\n",
    "\n",
    "Best Model Mean Absolute Error: 0.20740701280149365\n",
    "\n",
    "Best Model Root Mean Squared Error: 0.4914280611815703\n",
    "\n",
    "Best Model R-squared: 0.7584984606833228"
   ]
  },
  {
   "cell_type": "markdown",
   "metadata": {},
   "source": [
    "### 4.2.5 Evaluate model"
   ]
  },
  {
   "cell_type": "markdown",
   "metadata": {},
   "source": [
    "The best parameters on batch size, number of epochs, number of neurons, number of layers and learning rate were found and now used to build the final model and evaluate it´s performance."
   ]
  },
  {
   "cell_type": "code",
   "execution_count": 51,
   "metadata": {},
   "outputs": [
    {
     "data": {
      "text/plain": [
       "<keras.callbacks.History at 0x20353870c10>"
      ]
     },
     "execution_count": 51,
     "metadata": {},
     "output_type": "execute_result"
    },
    {
     "name": "stdout",
     "output_type": "stream",
     "text": [
      "57/57 [==============================] - 0s 1ms/step\n",
      "Mean Squared Error: 0.24815177581952355\n",
      "Mean Absolute Error: 0.2151516250014384\n",
      "Root Mean Squared Error: 0.49814834720143714\n",
      "R-squared: 0.7518482241804765\n"
     ]
    }
   ],
   "source": [
    "from keras.models import Sequential\n",
    "from keras.layers import Dense\n",
    "from keras.optimizers import Adam\n",
    "from keras import regularizers\n",
    "from sklearn.metrics import mean_squared_error, mean_absolute_error, r2_score\n",
    "import numpy as np\n",
    "\n",
    "# Create the model\n",
    "final_nn = Sequential()\n",
    "\n",
    "# Add the first layer \n",
    "final_nn.add(Dense(20, input_dim=X_train.shape[1], activation='relu', kernel_regularizer=regularizers.l2(0.03))) \n",
    "\n",
    "# Adding a hidden layer \n",
    "final_nn.add(Dense(20, activation='relu', kernel_regularizer=regularizers.l2(0.03)))  \n",
    "\n",
    "# Adding a hidden layer\n",
    "final_nn.add(Dense(20, activation='relu', kernel_regularizer=regularizers.l2(0.03)))  \n",
    "\n",
    "# Add the output layer\n",
    "final_nn.add(Dense(1, activation='linear'))\n",
    "\n",
    "# Configure the Adam optimizer with a custom learning rate\n",
    "adam = Adam(learning_rate=0.001)\n",
    "\n",
    "# Compile the model\n",
    "final_nn.compile(loss='mean_squared_error', optimizer=adam)\n",
    "\n",
    "# Train the neural network with the best parameters\n",
    "final_nn.fit(X_train_validation, y_train_validation, epochs=150, batch_size=10, verbose=0)\n",
    "\n",
    "# Make predictions on the test set\n",
    "y_hat_test_nn = final_nn.predict(X_test)\n",
    "\n",
    "# Calculate Mean Squared Error (MSE) between actual and predicted values\n",
    "mse_nn = mean_squared_error(y_test_set, y_hat_test_nn)\n",
    "print(\"Mean Squared Error:\", mse_nn)\n",
    "\n",
    "# Calculate Mean Absolute Error (MAE) between actual and predicted values\n",
    "mae_nn = mean_absolute_error(y_test_set, y_hat_test_nn)\n",
    "print(\"Mean Absolute Error:\", mae_nn)\n",
    "\n",
    "# Calculate Root Mean Squared Error (RMSE) between actual and predicted values\n",
    "rmse_nn = np.sqrt(mean_squared_error(y_test_set, y_hat_test_nn))\n",
    "print(\"Root Mean Squared Error:\", rmse_nn)\n",
    "\n",
    "# Calculate R-squared (coefficient of determination) between actual and predicted values\n",
    "r_squared_nn = r2_score(y_test_set, y_hat_test_nn)\n",
    "print(\"R-squared:\", r_squared_nn)\n"
   ]
  },
  {
   "cell_type": "markdown",
   "metadata": {},
   "source": [
    "Mean Squared Error (MSE): The MSE of 0.2481 suggests that the model's predictions are, on average, close to the true values. The MSE decreased after hyperparameter tuning, indicating that the model's predictions have lower squared errors compared to the original configuration.\n",
    "\n",
    "Mean Absolute Error (MAE): The MAE of 0.2152 suggests that the model's predictions deviate, on average, by approximately 0.2152 units from the true values. he MAE also decreased after tuning, indicating a reduction in the average absolute errors between predictions and actual values.\n",
    "\n",
    "Root Mean Squared Error (RMSE): The RMSE of 0.4981 suggests that, on average, the model's predictions differ by approximately 0.4981 units from the true values. The RMSE decreased, suggesting an improvement in the average magnitude of the prediction errors.\n",
    "\n",
    "R-squared (R²): The R-squared value of 0.7518 indicates that the model explains approximately 75.18% of the variance in the target variable. This suggests a relatively good fit to the data. The R-squared value increased after hyperparameter tuning, indicating a higher proportion of variance explained by the model.\n",
    "\n",
    "The model's performance significantly improved after hyperparameter tuning. The metrics collectively suggest that the model performs well. The low values of MSE, MAE, and RMSE indicate small errors in predictions, and the relatively high R-squared value indicates a good ability to explain the variance in the target variable."
   ]
  },
  {
   "cell_type": "code",
   "execution_count": 72,
   "metadata": {},
   "outputs": [
    {
     "data": {
      "text/plain": [
       "<Figure size 1600x600 with 0 Axes>"
      ]
     },
     "execution_count": 72,
     "metadata": {},
     "output_type": "execute_result"
    },
    {
     "data": {
      "text/plain": [
       "<Axes: >"
      ]
     },
     "execution_count": 72,
     "metadata": {},
     "output_type": "execute_result"
    },
    {
     "data": {
      "text/plain": [
       "<matplotlib.collections.PathCollection at 0x2036f6d2f90>"
      ]
     },
     "execution_count": 72,
     "metadata": {},
     "output_type": "execute_result"
    },
    {
     "data": {
      "text/plain": [
       "[<matplotlib.lines.Line2D at 0x2036f6df810>]"
      ]
     },
     "execution_count": 72,
     "metadata": {},
     "output_type": "execute_result"
    },
    {
     "data": {
      "text/plain": [
       "Text(0.5, 0, 'Actual Profit')"
      ]
     },
     "execution_count": 72,
     "metadata": {},
     "output_type": "execute_result"
    },
    {
     "data": {
      "text/plain": [
       "Text(0, 0.5, 'Predicted Profit')"
      ]
     },
     "execution_count": 72,
     "metadata": {},
     "output_type": "execute_result"
    },
    {
     "data": {
      "text/plain": [
       "Text(0.5, 1.0, 'Actual vs Predicted Profit Scatterplot with Perfect Prediction Line')"
      ]
     },
     "execution_count": 72,
     "metadata": {},
     "output_type": "execute_result"
    },
    {
     "data": {
      "text/plain": [
       "<Axes: >"
      ]
     },
     "execution_count": 72,
     "metadata": {},
     "output_type": "execute_result"
    },
    {
     "data": {
      "text/plain": [
       "<matplotlib.collections.PathCollection at 0x2036f6cafd0>"
      ]
     },
     "execution_count": 72,
     "metadata": {},
     "output_type": "execute_result"
    },
    {
     "data": {
      "text/plain": [
       "Text(0.5, 0, 'Predicted Values')"
      ]
     },
     "execution_count": 72,
     "metadata": {},
     "output_type": "execute_result"
    },
    {
     "data": {
      "text/plain": [
       "Text(0, 0.5, 'Residuals')"
      ]
     },
     "execution_count": 72,
     "metadata": {},
     "output_type": "execute_result"
    },
    {
     "data": {
      "text/plain": [
       "<matplotlib.lines.Line2D at 0x2036df9f750>"
      ]
     },
     "execution_count": 72,
     "metadata": {},
     "output_type": "execute_result"
    },
    {
     "data": {
      "text/plain": [
       "Text(0.5, 1.0, 'Residual Plot')"
      ]
     },
     "execution_count": 72,
     "metadata": {},
     "output_type": "execute_result"
    },
    {
     "data": {
      "image/png": "[encoded data removed]",
      "text/plain": [
       "<Figure size 1600x600 with 2 Axes>"
      ]
     },
     "metadata": {
      "image/png": {
       "height": 600,
       "width": 1600
      }
     },
     "output_type": "display_data"
    }
   ],
   "source": [
    "\n",
    "# Plotting actual vs predicted values in a scatterplot\n",
    "plt.figure(figsize=(16, 6))\n",
    "\n",
    "# Subplot 1: Actual vs Predicted Scatterplot\n",
    "plt.subplot(1, 2, 1)\n",
    "plt.scatter(y_test_set, y_hat_test_nn, alpha=0.5)\n",
    "plt.plot([min(y_test_set), max(y_test_set)], [min(y_test_set), max(y_test_set)], color='red', linestyle='--', linewidth=2)\n",
    "plt.xlabel('Actual Profit')\n",
    "plt.ylabel('Predicted Profit')\n",
    "plt.title('Actual vs Predicted Profit Scatterplot with Perfect Prediction Line')\n",
    "\n",
    "# Subplot 2: Residual Plot\n",
    "plt.subplot(1, 2, 2)\n",
    "residuals = y_test_set - y_hat_test_nn\n",
    "plt.scatter(y_hat_test_nn, residuals, alpha=0.3, color='green', marker='s')\n",
    "plt.xlabel('Predicted Values')\n",
    "plt.ylabel('Residuals')\n",
    "plt.axhline(y=0, color='r', linestyle='--')  \n",
    "plt.title('Residual Plot')\n",
    "plt.tight_layout()\n",
    "\n",
    "# Show the combined plots\n",
    "plt.show()"
   ]
  },
  {
   "cell_type": "markdown",
   "metadata": {},
   "source": [
    "**Conclusion:**\n",
    "\n",
    "Actual vs. predicted profit Plot: The model seems to tend to predict more lower profit than it actually is, if the profit is really high. \n",
    "\n",
    "Residual Plot: Residuals are the differences between the observed values and the predicted values from the model. In this plot, we observe a somewhat random scatter of residuals, suggesting that the model predictions are not biased, which means, they are neither systematically too high nor too low. However, there are a few outliers, particularly for higher predicted values, which may indicate that the model does not capture all of the variability in the data, especially at the higher end of the range of predictions."
   ]
  },
  {
   "cell_type": "markdown",
   "metadata": {},
   "source": [
    "# 5. Explainability"
   ]
  },
  {
   "cell_type": "markdown",
   "metadata": {},
   "source": [
    "When comparing the evaluation metrices of both models, it is visible that the Artificial Neural Network (r-squared = 76%) performs slightly better than the Random Forest (r-squared = 72%). Therefore, the effect of features will be evaluated only on the best performing model, the ANN, in the next section."
   ]
  },
  {
   "cell_type": "code",
   "execution_count": 55,
   "metadata": {},
   "outputs": [],
   "source": [
    "import pandas as pd\n",
    "import numpy as np\n",
    "from plotnine import *\n",
    "from sklearn.preprocessing import OneHotEncoder, StandardScaler, OrdinalEncoder\n",
    "from sklearn.ensemble import RandomForestClassifier\n",
    "from sklearn.metrics import f1_score, recall_score, precision_score\n",
    "from sklearn.preprocessing import LabelEncoder\n",
    "from sklearn.model_selection import train_test_split\n",
    "from sklearn.inspection import PartialDependenceDisplay\n",
    "import matplotlib.pyplot as plt\n",
    "\n",
    "from IPython.core.interactiveshell import InteractiveShell\n",
    "InteractiveShell.ast_node_interactivity = \"all\""
   ]
  },
  {
   "cell_type": "code",
   "execution_count": 56,
   "metadata": {},
   "outputs": [],
   "source": [
    "from alibi.explainers import ALE, plot_ale"
   ]
  },
  {
   "cell_type": "markdown",
   "metadata": {},
   "source": [
    "## 5.1 ALE plots"
   ]
  },
  {
   "cell_type": "code",
   "execution_count": 67,
   "metadata": {},
   "outputs": [
    {
     "data": {
      "text/plain": [
       "<Figure size 800x600 with 0 Axes>"
      ]
     },
     "execution_count": 67,
     "metadata": {},
     "output_type": "execute_result"
    },
    {
     "data": {
      "text/plain": [
       "Text(0.0674643177986145, 0, '0.0655')"
      ]
     },
     "execution_count": 67,
     "metadata": {},
     "output_type": "execute_result"
    },
    {
     "data": {
      "text/plain": [
       "Text(0.06591102820634842, 1, '0.0639')"
      ]
     },
     "execution_count": 67,
     "metadata": {},
     "output_type": "execute_result"
    },
    {
     "data": {
      "text/plain": [
       "Text(0.04034253177046776, 2, '0.0383')"
      ]
     },
     "execution_count": 67,
     "metadata": {},
     "output_type": "execute_result"
    },
    {
     "data": {
      "text/plain": [
       "Text(0.017380953438580038, 3, '0.0154')"
      ]
     },
     "execution_count": 67,
     "metadata": {},
     "output_type": "execute_result"
    },
    {
     "data": {
      "text/plain": [
       "Text(0.5, 0, 'Importance Score')"
      ]
     },
     "execution_count": 67,
     "metadata": {},
     "output_type": "execute_result"
    },
    {
     "data": {
      "text/plain": [
       "Text(0, 0.5, 'Features')"
      ]
     },
     "execution_count": 67,
     "metadata": {},
     "output_type": "execute_result"
    },
    {
     "data": {
      "text/plain": [
       "Text(0.5, 1.0, 'Top 10 Feature Importance Score for ANN')"
      ]
     },
     "execution_count": 67,
     "metadata": {},
     "output_type": "execute_result"
    },
    {
     "data": {
      "image/png": "[encoded data removed]",
      "text/plain": [
       "<Figure size 800x600 with 1 Axes>"
      ]
     },
     "metadata": {
      "image/png": {
       "height": 600,
       "width": 800
      }
     },
     "output_type": "display_data"
    }
   ],
   "source": [
    "# Extracting the weights from the layers\n",
    "weights = final_nn.get_weights()\n",
    "\n",
    "# Extracting the weights of the first layer (assuming it's a dense layer)\n",
    "dense_layer_weights = np.array(weights[0])\n",
    "\n",
    "# Assuming X_train is your feature matrix with column names\n",
    "feature_names = X_train.columns\n",
    "\n",
    "# Check the number of features in X_train\n",
    "num_features_in_X_train = X_train.shape[1]\n",
    "\n",
    "# Check if the number of features in X_train matches the number of features in the neural network\n",
    "num_features_in_nn = dense_layer_weights.shape[0]\n",
    "\n",
    "if num_features_in_X_train != num_features_in_nn:\n",
    "    raise ValueError(\"Number of features in X_train does not match the number of features in the neural network.\")\n",
    "\n",
    "# Calculating feature importances based on the weights\n",
    "feature_importance = np.mean(np.abs(dense_layer_weights), axis=1)\n",
    "\n",
    "# Creating a DataFrame with feature importances\n",
    "feature_importance_df = pd.Series(feature_importance, index=feature_names, name='Importance')\n",
    "\n",
    "# Plotting the top 10 important features in a horizontal bar chart\n",
    "plt.figure(figsize=(8, 6)) \n",
    "ax = feature_importance_df.nlargest(10).plot(kind='barh', color='skyblue', edgecolor='black')\n",
    "\n",
    "# Display importance values on the bars\n",
    "for index, value in enumerate(feature_importance_df.nlargest(10)):\n",
    "    ax.text(value + 0.002, index, f'{value:.4f}', va='center', fontsize=10, color='black')\n",
    "\n",
    "# Set labels for x and y axes, and the title of the plot\n",
    "plt.xlabel('Importance Score')\n",
    "plt.ylabel('Features')\n",
    "plt.title('Top 10 Feature Importance Score for ANN')\n",
    "\n",
    "# Adjust layout to avoid cutting off text\n",
    "plt.tight_layout()\n",
    "\n",
    "# Invert y-axis for better visualization\n",
    "ax.invert_yaxis()\n",
    "\n",
    "# Show the plot\n",
    "plt.show()"
   ]
  },
  {
   "cell_type": "markdown",
   "metadata": {},
   "source": [
    "**Conclusion:** Of all the for used features, the theatre count has the highest importance in the ANN model, followed by average run per theatre and production budget. Runtime is the least important feature.\n",
    "\n",
    "The feature theatre_count has an importance score of 0.0655.\n",
    "This indicates that within the specified range of theatre_count, it contributes moderately to the model's predictions.\n",
    "A higher importance score suggests that changes in theatre_count have a relatively larger impact on the model's predictions compared to other features.\n",
    "\n",
    "The feature avg run per theatre has an importance score of 0.0639.\n",
    "Similar to theatre_count, it contributes moderately to the model's predictions within its range.\n",
    "\n",
    "The feature production_budget has an importance score of 0.0383.\n",
    "While still contributing, it has a relatively lower impact compared to theatre_count and avg run per theatre.\n",
    "The model considers changes in production_budget, but they have a smaller effect on the predictions.\n",
    "\n",
    "The feature runtime has the lowest importance score of 0.0154.\n",
    "It has the smallest relative impact on the model's predictions within its range.\n",
    "Changes in runtime have a comparatively smaller effect on the predictions compared to the other features.\n",
    "\n",
    "Features with higher importance scores (e.g., theatre_count and avg run per theatre) play a more substantial role in influencing the model's predictions.\n",
    "\n",
    "Features with lower importance scores (e.g., production_budget and runtime) are still considered by the model but have a relatively smaller impact."
   ]
  },
  {
   "cell_type": "code",
   "execution_count": 73,
   "metadata": {},
   "outputs": [
    {
     "data": {
      "text/plain": [
       "<Figure size 800x600 with 0 Axes>"
      ]
     },
     "execution_count": 73,
     "metadata": {},
     "output_type": "execute_result"
    },
    {
     "data": {
      "text/plain": [
       "<Axes: >"
      ]
     },
     "execution_count": 73,
     "metadata": {},
     "output_type": "execute_result"
    },
    {
     "name": "stdout",
     "output_type": "stream",
     "text": [
      "57/57 [==============================] - 1s 6ms/step\n",
      "57/57 [==============================] - 0s 5ms/step\n",
      "57/57 [==============================] - 0s 5ms/step\n",
      "57/57 [==============================] - 0s 5ms/step\n",
      "57/57 [==============================] - 0s 5ms/step\n",
      "57/57 [==============================] - 0s 5ms/step\n",
      "57/57 [==============================] - 0s 4ms/step\n",
      "57/57 [==============================] - 1s 9ms/step\n",
      "57/57 [==============================] - 0s 5ms/step\n",
      "57/57 [==============================] - 0s 5ms/step\n",
      "57/57 [==============================] - 0s 4ms/step\n",
      "57/57 [==============================] - 0s 4ms/step\n",
      "57/57 [==============================] - 0s 4ms/step\n",
      "57/57 [==============================] - 0s 4ms/step\n",
      "57/57 [==============================] - 0s 4ms/step\n",
      "57/57 [==============================] - 0s 4ms/step\n",
      "57/57 [==============================] - 0s 4ms/step\n",
      "57/57 [==============================] - 0s 4ms/step\n",
      "57/57 [==============================] - 0s 4ms/step\n",
      "57/57 [==============================] - 0s 4ms/step\n",
      "57/57 [==============================] - 0s 3ms/step\n",
      "57/57 [==============================] - 0s 3ms/step\n",
      "57/57 [==============================] - 0s 4ms/step\n",
      "57/57 [==============================] - 0s 4ms/step\n",
      "57/57 [==============================] - 0s 4ms/step\n",
      "57/57 [==============================] - 0s 4ms/step\n",
      "57/57 [==============================] - 0s 4ms/step\n",
      "57/57 [==============================] - 0s 4ms/step\n",
      "57/57 [==============================] - 0s 3ms/step\n",
      "57/57 [==============================] - 0s 4ms/step\n",
      "57/57 [==============================] - 0s 4ms/step\n",
      "57/57 [==============================] - 0s 4ms/step\n",
      "57/57 [==============================] - 0s 4ms/step\n",
      "57/57 [==============================] - 0s 3ms/step\n",
      "57/57 [==============================] - 0s 4ms/step\n",
      "57/57 [==============================] - 0s 5ms/step\n",
      "57/57 [==============================] - 0s 4ms/step\n",
      "57/57 [==============================] - 0s 4ms/step\n",
      "57/57 [==============================] - 0s 4ms/step\n",
      "57/57 [==============================] - 0s 4ms/step\n",
      "57/57 [==============================] - 0s 4ms/step\n",
      "57/57 [==============================] - 0s 4ms/step\n",
      "57/57 [==============================] - 0s 6ms/step\n",
      "57/57 [==============================] - 0s 3ms/step\n",
      "57/57 [==============================] - 0s 3ms/step\n",
      "57/57 [==============================] - 0s 4ms/step\n",
      "57/57 [==============================] - 0s 4ms/step\n",
      "57/57 [==============================] - 0s 4ms/step\n",
      "57/57 [==============================] - 0s 4ms/step\n",
      "57/57 [==============================] - 0s 4ms/step\n",
      "57/57 [==============================] - 0s 4ms/step\n",
      "57/57 [==============================] - 0s 4ms/step\n",
      "57/57 [==============================] - 0s 5ms/step\n",
      "57/57 [==============================] - 0s 5ms/step\n",
      "57/57 [==============================] - 0s 6ms/step\n",
      "57/57 [==============================] - 0s 6ms/step\n",
      "57/57 [==============================] - 1s 7ms/step\n",
      "57/57 [==============================] - 0s 7ms/step\n",
      "57/57 [==============================] - 0s 5ms/step\n",
      "57/57 [==============================] - 0s 6ms/step\n",
      "57/57 [==============================] - 0s 6ms/step\n",
      "57/57 [==============================] - 1s 14ms/step\n",
      "57/57 [==============================] - 1s 10ms/step\n",
      "57/57 [==============================] - 0s 6ms/step\n",
      "57/57 [==============================] - 0s 6ms/step\n",
      "57/57 [==============================] - 0s 5ms/step\n",
      "57/57 [==============================] - 0s 5ms/step\n",
      "57/57 [==============================] - 0s 5ms/step\n",
      "57/57 [==============================] - 0s 5ms/step\n",
      "57/57 [==============================] - 0s 5ms/step\n",
      "57/57 [==============================] - 0s 5ms/step\n",
      "57/57 [==============================] - 0s 5ms/step\n",
      "57/57 [==============================] - 0s 5ms/step\n",
      "57/57 [==============================] - 0s 5ms/step\n",
      "57/57 [==============================] - 0s 5ms/step\n",
      "57/57 [==============================] - 1s 7ms/step\n",
      "57/57 [==============================] - 1s 7ms/step\n",
      "57/57 [==============================] - 0s 5ms/step\n",
      "57/57 [==============================] - 0s 6ms/step\n",
      "57/57 [==============================] - 0s 5ms/step\n",
      "57/57 [==============================] - 0s 5ms/step\n",
      "57/57 [==============================] - 0s 5ms/step\n",
      "57/57 [==============================] - 0s 6ms/step\n",
      "57/57 [==============================] - 0s 5ms/step\n",
      "57/57 [==============================] - 0s 7ms/step\n",
      "57/57 [==============================] - 0s 7ms/step\n",
      "57/57 [==============================] - 0s 4ms/step\n",
      "57/57 [==============================] - 0s 5ms/step\n",
      "57/57 [==============================] - 0s 5ms/step\n",
      "57/57 [==============================] - 1s 13ms/step\n",
      "57/57 [==============================] - 0s 5ms/step\n",
      "57/57 [==============================] - 0s 5ms/step\n",
      "57/57 [==============================] - 0s 5ms/step\n",
      "57/57 [==============================] - 0s 5ms/step\n",
      "57/57 [==============================] - 0s 5ms/step\n",
      "57/57 [==============================] - 0s 5ms/step\n",
      "57/57 [==============================] - 0s 5ms/step\n",
      "57/57 [==============================] - 0s 5ms/step\n",
      "57/57 [==============================] - 0s 5ms/step\n",
      "57/57 [==============================] - 0s 5ms/step\n",
      "57/57 [==============================] - 0s 5ms/step\n",
      "57/57 [==============================] - 0s 6ms/step\n",
      "57/57 [==============================] - 0s 4ms/step\n",
      "57/57 [==============================] - 0s 5ms/step\n",
      "57/57 [==============================] - 0s 5ms/step\n",
      "57/57 [==============================] - 0s 6ms/step\n",
      "57/57 [==============================] - 0s 5ms/step\n",
      "57/57 [==============================] - 0s 5ms/step\n",
      "57/57 [==============================] - 0s 5ms/step\n",
      "57/57 [==============================] - 0s 5ms/step\n",
      "57/57 [==============================] - 0s 5ms/step\n",
      "57/57 [==============================] - 0s 5ms/step\n",
      "57/57 [==============================] - 0s 5ms/step\n",
      "57/57 [==============================] - 0s 5ms/step\n",
      "57/57 [==============================] - 0s 5ms/step\n",
      "57/57 [==============================] - 0s 5ms/step\n",
      "57/57 [==============================] - 0s 5ms/step\n",
      "57/57 [==============================] - 0s 5ms/step\n",
      "57/57 [==============================] - 0s 5ms/step\n",
      "57/57 [==============================] - 0s 6ms/step\n",
      "57/57 [==============================] - 0s 5ms/step\n",
      "57/57 [==============================] - 0s 5ms/step\n",
      "57/57 [==============================] - 0s 5ms/step\n",
      "57/57 [==============================] - 0s 5ms/step\n",
      "57/57 [==============================] - 0s 5ms/step\n",
      "57/57 [==============================] - 0s 5ms/step\n",
      "57/57 [==============================] - 0s 5ms/step\n",
      "57/57 [==============================] - 0s 5ms/step\n",
      "57/57 [==============================] - 0s 5ms/step\n",
      "57/57 [==============================] - 0s 5ms/step\n",
      "57/57 [==============================] - 0s 5ms/step\n",
      "57/57 [==============================] - 0s 5ms/step\n",
      "57/57 [==============================] - 0s 5ms/step\n",
      "57/57 [==============================] - 0s 5ms/step\n",
      "57/57 [==============================] - 0s 4ms/step\n",
      "57/57 [==============================] - 1s 6ms/step\n",
      "57/57 [==============================] - 0s 4ms/step\n",
      "57/57 [==============================] - 0s 6ms/step\n",
      "57/57 [==============================] - 0s 4ms/step\n",
      "57/57 [==============================] - 0s 4ms/step\n",
      "57/57 [==============================] - 0s 4ms/step\n",
      "57/57 [==============================] - 0s 4ms/step\n",
      "57/57 [==============================] - 0s 5ms/step\n",
      "57/57 [==============================] - 0s 5ms/step\n",
      "57/57 [==============================] - 0s 5ms/step\n",
      "57/57 [==============================] - 0s 5ms/step\n",
      "57/57 [==============================] - 0s 5ms/step\n",
      "57/57 [==============================] - 0s 5ms/step\n",
      "57/57 [==============================] - 0s 5ms/step\n",
      "57/57 [==============================] - 0s 5ms/step\n",
      "57/57 [==============================] - 0s 5ms/step\n",
      "57/57 [==============================] - 0s 5ms/step\n",
      "57/57 [==============================] - 0s 5ms/step\n",
      "57/57 [==============================] - 0s 5ms/step\n",
      "57/57 [==============================] - 0s 5ms/step\n",
      "57/57 [==============================] - 0s 5ms/step\n",
      "57/57 [==============================] - 0s 5ms/step\n",
      "57/57 [==============================] - 0s 5ms/step\n",
      "57/57 [==============================] - 0s 5ms/step\n",
      "57/57 [==============================] - 0s 5ms/step\n",
      "57/57 [==============================] - 0s 5ms/step\n",
      "57/57 [==============================] - 0s 5ms/step\n",
      "57/57 [==============================] - 0s 5ms/step\n",
      "57/57 [==============================] - 0s 5ms/step\n",
      "57/57 [==============================] - 1s 5ms/step\n",
      "57/57 [==============================] - 0s 5ms/step\n",
      "57/57 [==============================] - 0s 5ms/step\n",
      "57/57 [==============================] - 0s 5ms/step\n",
      "57/57 [==============================] - 0s 6ms/step\n",
      "57/57 [==============================] - 0s 5ms/step\n",
      "57/57 [==============================] - 0s 5ms/step\n",
      "57/57 [==============================] - 0s 5ms/step\n",
      "57/57 [==============================] - 0s 5ms/step\n",
      "57/57 [==============================] - 0s 5ms/step\n",
      "57/57 [==============================] - 0s 5ms/step\n",
      "57/57 [==============================] - 0s 5ms/step\n",
      "57/57 [==============================] - 0s 5ms/step\n",
      "57/57 [==============================] - 0s 5ms/step\n",
      "57/57 [==============================] - 0s 6ms/step\n",
      "57/57 [==============================] - 0s 5ms/step\n",
      "57/57 [==============================] - 0s 6ms/step\n",
      "57/57 [==============================] - 0s 6ms/step\n",
      "57/57 [==============================] - 0s 5ms/step\n",
      "57/57 [==============================] - 0s 5ms/step\n",
      "57/57 [==============================] - 0s 4ms/step\n",
      "57/57 [==============================] - 0s 5ms/step\n",
      "57/57 [==============================] - 0s 5ms/step\n",
      "57/57 [==============================] - 0s 5ms/step\n",
      "57/57 [==============================] - 0s 5ms/step\n",
      "57/57 [==============================] - 0s 4ms/step\n",
      "57/57 [==============================] - 0s 5ms/step\n",
      "57/57 [==============================] - 0s 6ms/step\n",
      "57/57 [==============================] - 0s 5ms/step\n",
      "57/57 [==============================] - 1s 8ms/step\n",
      "57/57 [==============================] - 0s 5ms/step\n",
      "57/57 [==============================] - 0s 5ms/step\n",
      "57/57 [==============================] - 0s 5ms/step\n",
      "57/57 [==============================] - 0s 5ms/step\n",
      "57/57 [==============================] - 0s 4ms/step\n",
      "57/57 [==============================] - 0s 5ms/step\n",
      "57/57 [==============================] - 0s 6ms/step\n",
      "57/57 [==============================] - 0s 5ms/step\n",
      "57/57 [==============================] - 0s 5ms/step\n",
      "57/57 [==============================] - 0s 5ms/step\n",
      "57/57 [==============================] - 0s 5ms/step\n",
      "57/57 [==============================] - 0s 5ms/step\n",
      "57/57 [==============================] - 0s 5ms/step\n",
      "57/57 [==============================] - 0s 6ms/step\n",
      "57/57 [==============================] - 0s 4ms/step\n",
      "57/57 [==============================] - 0s 5ms/step\n",
      "57/57 [==============================] - 0s 6ms/step\n",
      "57/57 [==============================] - 0s 5ms/step\n",
      "57/57 [==============================] - 0s 5ms/step\n",
      "57/57 [==============================] - 0s 4ms/step\n",
      "57/57 [==============================] - 0s 5ms/step\n",
      "57/57 [==============================] - 0s 5ms/step\n",
      "57/57 [==============================] - 0s 5ms/step\n",
      "57/57 [==============================] - 0s 4ms/step\n",
      "57/57 [==============================] - 0s 5ms/step\n",
      "57/57 [==============================] - 0s 5ms/step\n",
      "57/57 [==============================] - 0s 5ms/step\n",
      "57/57 [==============================] - 0s 5ms/step\n",
      "57/57 [==============================] - 1s 9ms/step\n",
      "57/57 [==============================] - 0s 5ms/step\n",
      "57/57 [==============================] - 0s 5ms/step\n",
      "57/57 [==============================] - 0s 5ms/step\n",
      "57/57 [==============================] - 0s 5ms/step\n",
      "57/57 [==============================] - 0s 5ms/step\n",
      "57/57 [==============================] - 0s 5ms/step\n",
      "57/57 [==============================] - 0s 5ms/step\n",
      "57/57 [==============================] - 0s 5ms/step\n",
      "57/57 [==============================] - 0s 5ms/step\n",
      "57/57 [==============================] - 0s 6ms/step\n",
      "57/57 [==============================] - 0s 5ms/step\n",
      "57/57 [==============================] - 0s 5ms/step\n",
      "57/57 [==============================] - 0s 5ms/step\n",
      "57/57 [==============================] - 0s 5ms/step\n",
      "57/57 [==============================] - 0s 5ms/step\n",
      "57/57 [==============================] - 0s 5ms/step\n",
      "57/57 [==============================] - 0s 5ms/step\n",
      "57/57 [==============================] - 0s 4ms/step\n",
      "57/57 [==============================] - 0s 5ms/step\n",
      "57/57 [==============================] - 0s 5ms/step\n",
      "57/57 [==============================] - 0s 5ms/step\n",
      "57/57 [==============================] - 0s 6ms/step\n",
      "57/57 [==============================] - 0s 6ms/step\n",
      "57/57 [==============================] - 0s 5ms/step\n",
      "57/57 [==============================] - 0s 5ms/step\n",
      "57/57 [==============================] - 0s 5ms/step\n",
      "57/57 [==============================] - 0s 5ms/step\n",
      "57/57 [==============================] - 1s 9ms/step\n",
      "57/57 [==============================] - 0s 6ms/step\n",
      "57/57 [==============================] - 0s 6ms/step\n",
      "57/57 [==============================] - 0s 6ms/step\n",
      "57/57 [==============================] - 0s 5ms/step\n",
      "57/57 [==============================] - 0s 6ms/step\n",
      "57/57 [==============================] - 0s 5ms/step\n",
      "57/57 [==============================] - 0s 5ms/step\n",
      "57/57 [==============================] - 0s 5ms/step\n",
      "57/57 [==============================] - 0s 5ms/step\n",
      "57/57 [==============================] - 0s 4ms/step\n",
      "57/57 [==============================] - 0s 6ms/step\n",
      "57/57 [==============================] - 0s 4ms/step\n",
      "57/57 [==============================] - 0s 5ms/step\n",
      "57/57 [==============================] - 0s 7ms/step\n",
      "57/57 [==============================] - 0s 5ms/step\n",
      "57/57 [==============================] - 0s 5ms/step\n",
      "57/57 [==============================] - 0s 5ms/step\n",
      "57/57 [==============================] - 0s 5ms/step\n",
      "57/57 [==============================] - 0s 5ms/step\n",
      "57/57 [==============================] - 0s 5ms/step\n",
      "57/57 [==============================] - 0s 5ms/step\n",
      "57/57 [==============================] - 0s 5ms/step\n",
      "57/57 [==============================] - 0s 5ms/step\n",
      "57/57 [==============================] - 0s 5ms/step\n",
      "57/57 [==============================] - 0s 5ms/step\n",
      "57/57 [==============================] - 0s 5ms/step\n",
      "57/57 [==============================] - 0s 5ms/step\n",
      "57/57 [==============================] - 0s 5ms/step\n",
      "57/57 [==============================] - 0s 5ms/step\n",
      "57/57 [==============================] - 0s 5ms/step\n",
      "57/57 [==============================] - 0s 5ms/step\n",
      "57/57 [==============================] - 0s 5ms/step\n",
      "57/57 [==============================] - 0s 4ms/step\n",
      "57/57 [==============================] - 0s 6ms/step\n",
      "57/57 [==============================] - 0s 6ms/step\n",
      "57/57 [==============================] - 0s 5ms/step\n",
      "57/57 [==============================] - 0s 5ms/step\n",
      "57/57 [==============================] - 0s 4ms/step\n",
      "57/57 [==============================] - 0s 5ms/step\n",
      "57/57 [==============================] - 0s 5ms/step\n",
      "57/57 [==============================] - 0s 6ms/step\n",
      "57/57 [==============================] - 0s 5ms/step\n",
      "57/57 [==============================] - 0s 5ms/step\n",
      "57/57 [==============================] - 0s 4ms/step\n",
      "57/57 [==============================] - 0s 5ms/step\n",
      "57/57 [==============================] - 0s 5ms/step\n",
      "57/57 [==============================] - 0s 5ms/step\n",
      "57/57 [==============================] - 0s 4ms/step\n",
      "57/57 [==============================] - 0s 5ms/step\n",
      "57/57 [==============================] - 0s 5ms/step\n",
      "57/57 [==============================] - 0s 5ms/step\n",
      "57/57 [==============================] - 0s 5ms/step\n",
      "57/57 [==============================] - 0s 5ms/step\n",
      "57/57 [==============================] - 0s 5ms/step\n",
      "57/57 [==============================] - 0s 5ms/step\n",
      "57/57 [==============================] - 0s 5ms/step\n",
      "57/57 [==============================] - 0s 5ms/step\n",
      "57/57 [==============================] - 0s 5ms/step\n",
      "57/57 [==============================] - 0s 4ms/step\n",
      "57/57 [==============================] - 0s 5ms/step\n",
      "57/57 [==============================] - 0s 4ms/step\n",
      "57/57 [==============================] - 0s 5ms/step\n",
      "57/57 [==============================] - 0s 6ms/step\n",
      "57/57 [==============================] - 0s 5ms/step\n",
      "57/57 [==============================] - 0s 4ms/step\n",
      "57/57 [==============================] - 0s 5ms/step\n",
      "57/57 [==============================] - 0s 5ms/step\n",
      "57/57 [==============================] - 0s 6ms/step\n",
      "57/57 [==============================] - 1s 9ms/step\n",
      "57/57 [==============================] - 0s 5ms/step\n",
      "57/57 [==============================] - 0s 5ms/step\n",
      "57/57 [==============================] - 0s 5ms/step\n",
      "57/57 [==============================] - 0s 5ms/step\n",
      "57/57 [==============================] - 0s 5ms/step\n",
      "57/57 [==============================] - 0s 5ms/step\n",
      "57/57 [==============================] - 0s 5ms/step\n",
      "57/57 [==============================] - 0s 5ms/step\n",
      "57/57 [==============================] - 0s 6ms/step\n",
      "57/57 [==============================] - 0s 5ms/step\n",
      "57/57 [==============================] - 0s 5ms/step\n",
      "57/57 [==============================] - 0s 5ms/step\n",
      "57/57 [==============================] - 0s 5ms/step\n",
      "57/57 [==============================] - 0s 4ms/step\n",
      "57/57 [==============================] - 0s 5ms/step\n",
      "57/57 [==============================] - 0s 6ms/step\n",
      "57/57 [==============================] - 0s 5ms/step\n",
      "57/57 [==============================] - 0s 4ms/step\n",
      "57/57 [==============================] - 0s 5ms/step\n",
      "57/57 [==============================] - 0s 6ms/step\n",
      "57/57 [==============================] - 0s 5ms/step\n",
      "57/57 [==============================] - 0s 5ms/step\n",
      "57/57 [==============================] - 0s 5ms/step\n",
      "57/57 [==============================] - 0s 5ms/step\n",
      "57/57 [==============================] - 0s 7ms/step\n",
      "57/57 [==============================] - 0s 5ms/step\n",
      "57/57 [==============================] - 0s 6ms/step\n",
      "57/57 [==============================] - 0s 5ms/step\n",
      "57/57 [==============================] - 0s 6ms/step\n",
      "57/57 [==============================] - 0s 5ms/step\n",
      "57/57 [==============================] - 0s 5ms/step\n",
      "57/57 [==============================] - 0s 6ms/step\n",
      "57/57 [==============================] - 0s 5ms/step\n",
      "57/57 [==============================] - 0s 5ms/step\n",
      "57/57 [==============================] - 0s 6ms/step\n",
      "57/57 [==============================] - 0s 5ms/step\n",
      "57/57 [==============================] - 0s 6ms/step\n",
      "57/57 [==============================] - 0s 6ms/step\n",
      "57/57 [==============================] - 0s 5ms/step\n",
      "57/57 [==============================] - 0s 5ms/step\n",
      "57/57 [==============================] - 0s 5ms/step\n",
      "57/57 [==============================] - 0s 5ms/step\n",
      "57/57 [==============================] - 0s 5ms/step\n",
      "57/57 [==============================] - 0s 5ms/step\n",
      "57/57 [==============================] - 0s 6ms/step\n",
      "57/57 [==============================] - 0s 5ms/step\n",
      "57/57 [==============================] - 0s 5ms/step\n",
      "57/57 [==============================] - 1s 9ms/step\n",
      "57/57 [==============================] - 0s 5ms/step\n",
      "57/57 [==============================] - 0s 5ms/step\n",
      "57/57 [==============================] - 0s 5ms/step\n",
      "57/57 [==============================] - 0s 5ms/step\n",
      "57/57 [==============================] - 0s 5ms/step\n",
      "57/57 [==============================] - 0s 5ms/step\n",
      "57/57 [==============================] - 0s 5ms/step\n",
      "57/57 [==============================] - 0s 5ms/step\n",
      "57/57 [==============================] - 0s 5ms/step\n",
      "57/57 [==============================] - 0s 5ms/step\n",
      "57/57 [==============================] - 0s 5ms/step\n",
      "57/57 [==============================] - 0s 6ms/step\n",
      "57/57 [==============================] - 0s 5ms/step\n",
      "57/57 [==============================] - 0s 4ms/step\n",
      "57/57 [==============================] - 0s 6ms/step\n",
      "57/57 [==============================] - 0s 5ms/step\n",
      "57/57 [==============================] - 0s 5ms/step\n",
      "57/57 [==============================] - 0s 5ms/step\n",
      "57/57 [==============================] - 0s 5ms/step\n",
      "57/57 [==============================] - 0s 5ms/step\n",
      "57/57 [==============================] - 0s 5ms/step\n",
      "57/57 [==============================] - 0s 5ms/step\n",
      "57/57 [==============================] - 0s 5ms/step\n",
      "57/57 [==============================] - 0s 5ms/step\n",
      "57/57 [==============================] - 0s 5ms/step\n",
      "57/57 [==============================] - 0s 5ms/step\n",
      "57/57 [==============================] - 0s 5ms/step\n",
      "57/57 [==============================] - 0s 5ms/step\n",
      "57/57 [==============================] - 0s 4ms/step\n",
      "57/57 [==============================] - 0s 5ms/step\n",
      "57/57 [==============================] - 0s 5ms/step\n",
      "57/57 [==============================] - 0s 4ms/step\n",
      "57/57 [==============================] - 0s 5ms/step\n",
      "57/57 [==============================] - 0s 5ms/step\n",
      "57/57 [==============================] - 0s 5ms/step\n",
      "57/57 [==============================] - 0s 5ms/step\n",
      "57/57 [==============================] - 0s 5ms/step\n",
      "57/57 [==============================] - 0s 5ms/step\n",
      "57/57 [==============================] - 1s 7ms/step\n",
      "57/57 [==============================] - 0s 5ms/step\n",
      "57/57 [==============================] - 0s 5ms/step\n",
      "57/57 [==============================] - 0s 5ms/step\n",
      "57/57 [==============================] - 0s 5ms/step\n",
      "57/57 [==============================] - 0s 4ms/step\n",
      "57/57 [==============================] - 0s 5ms/step\n",
      "57/57 [==============================] - 0s 5ms/step\n",
      "57/57 [==============================] - 0s 5ms/step\n",
      "57/57 [==============================] - 0s 5ms/step\n",
      "57/57 [==============================] - 0s 6ms/step\n",
      "57/57 [==============================] - 0s 5ms/step\n",
      "57/57 [==============================] - 0s 4ms/step\n",
      "57/57 [==============================] - 0s 5ms/step\n",
      "57/57 [==============================] - 0s 5ms/step\n",
      "57/57 [==============================] - 0s 5ms/step\n",
      "57/57 [==============================] - 0s 5ms/step\n",
      "57/57 [==============================] - 0s 5ms/step\n",
      "57/57 [==============================] - 0s 4ms/step\n",
      "57/57 [==============================] - 0s 5ms/step\n",
      "57/57 [==============================] - 0s 5ms/step\n",
      "57/57 [==============================] - 0s 5ms/step\n",
      "57/57 [==============================] - 0s 7ms/step\n",
      "57/57 [==============================] - 0s 5ms/step\n",
      "57/57 [==============================] - 0s 5ms/step\n",
      "57/57 [==============================] - 0s 4ms/step\n",
      "57/57 [==============================] - 0s 5ms/step\n",
      "57/57 [==============================] - 0s 5ms/step\n",
      "57/57 [==============================] - 0s 5ms/step\n",
      "57/57 [==============================] - 0s 5ms/step\n",
      "57/57 [==============================] - 0s 5ms/step\n",
      "57/57 [==============================] - 0s 5ms/step\n",
      "57/57 [==============================] - 0s 5ms/step\n",
      "57/57 [==============================] - 0s 6ms/step\n",
      "57/57 [==============================] - 0s 5ms/step\n",
      "57/57 [==============================] - 1s 7ms/step\n",
      "57/57 [==============================] - 0s 5ms/step\n",
      "57/57 [==============================] - 0s 5ms/step\n",
      "57/57 [==============================] - 0s 5ms/step\n",
      "57/57 [==============================] - 0s 5ms/step\n",
      "57/57 [==============================] - 0s 5ms/step\n",
      "57/57 [==============================] - 0s 5ms/step\n",
      "57/57 [==============================] - 0s 5ms/step\n",
      "57/57 [==============================] - 0s 5ms/step\n",
      "57/57 [==============================] - 0s 5ms/step\n",
      "57/57 [==============================] - 0s 5ms/step\n",
      "57/57 [==============================] - 0s 5ms/step\n",
      "57/57 [==============================] - 1s 8ms/step\n",
      "57/57 [==============================] - 0s 5ms/step\n",
      "57/57 [==============================] - 0s 6ms/step\n",
      "57/57 [==============================] - 0s 5ms/step\n",
      "57/57 [==============================] - 0s 5ms/step\n",
      "57/57 [==============================] - 0s 5ms/step\n",
      "57/57 [==============================] - 0s 6ms/step\n",
      "57/57 [==============================] - 0s 5ms/step\n",
      "57/57 [==============================] - 0s 6ms/step\n",
      "57/57 [==============================] - 0s 5ms/step\n",
      "57/57 [==============================] - 0s 5ms/step\n",
      "57/57 [==============================] - 0s 7ms/step\n",
      "57/57 [==============================] - 0s 5ms/step\n",
      "57/57 [==============================] - 0s 5ms/step\n",
      "57/57 [==============================] - 0s 4ms/step\n",
      "57/57 [==============================] - 0s 5ms/step\n",
      "57/57 [==============================] - 0s 6ms/step\n",
      "57/57 [==============================] - 0s 5ms/step\n",
      "57/57 [==============================] - 1s 7ms/step\n",
      "57/57 [==============================] - 0s 5ms/step\n",
      "57/57 [==============================] - 0s 5ms/step\n",
      "57/57 [==============================] - 0s 5ms/step\n",
      "57/57 [==============================] - 0s 6ms/step\n",
      "57/57 [==============================] - 1s 7ms/step\n",
      "57/57 [==============================] - 1s 8ms/step\n",
      "57/57 [==============================] - 0s 5ms/step\n",
      "57/57 [==============================] - 0s 5ms/step\n",
      "57/57 [==============================] - 0s 7ms/step\n",
      "57/57 [==============================] - 0s 5ms/step\n",
      "57/57 [==============================] - 0s 5ms/step\n",
      "57/57 [==============================] - 0s 4ms/step\n",
      "57/57 [==============================] - 0s 5ms/step\n",
      "57/57 [==============================] - 0s 5ms/step\n",
      "57/57 [==============================] - 0s 6ms/step\n",
      "57/57 [==============================] - 0s 6ms/step\n",
      "57/57 [==============================] - 0s 5ms/step\n",
      "57/57 [==============================] - 0s 5ms/step\n",
      "57/57 [==============================] - 0s 5ms/step\n",
      "57/57 [==============================] - 0s 4ms/step\n",
      "57/57 [==============================] - 0s 5ms/step\n",
      "57/57 [==============================] - 0s 5ms/step\n",
      "57/57 [==============================] - 0s 5ms/step\n",
      "57/57 [==============================] - 0s 6ms/step\n",
      "57/57 [==============================] - 0s 5ms/step\n",
      "57/57 [==============================] - 0s 5ms/step\n",
      "57/57 [==============================] - 0s 6ms/step\n",
      "57/57 [==============================] - 1s 7ms/step\n",
      "57/57 [==============================] - 0s 5ms/step\n",
      "57/57 [==============================] - 0s 5ms/step\n",
      "57/57 [==============================] - 0s 4ms/step\n",
      "57/57 [==============================] - 0s 6ms/step\n",
      "57/57 [==============================] - 0s 5ms/step\n",
      "57/57 [==============================] - 0s 5ms/step\n",
      "57/57 [==============================] - 0s 5ms/step\n",
      "57/57 [==============================] - 0s 5ms/step\n",
      "57/57 [==============================] - 0s 5ms/step\n",
      "57/57 [==============================] - 0s 5ms/step\n",
      "57/57 [==============================] - 0s 5ms/step\n",
      "57/57 [==============================] - 0s 5ms/step\n",
      "57/57 [==============================] - 0s 5ms/step\n",
      "57/57 [==============================] - 0s 5ms/step\n",
      "57/57 [==============================] - 0s 5ms/step\n",
      "57/57 [==============================] - 0s 5ms/step\n",
      "57/57 [==============================] - 0s 6ms/step\n",
      "57/57 [==============================] - 0s 4ms/step\n",
      "57/57 [==============================] - 0s 5ms/step\n",
      "57/57 [==============================] - 0s 6ms/step\n",
      "57/57 [==============================] - 0s 6ms/step\n",
      "57/57 [==============================] - 0s 5ms/step\n",
      "57/57 [==============================] - 0s 5ms/step\n",
      "57/57 [==============================] - 1s 7ms/step\n",
      "57/57 [==============================] - 0s 5ms/step\n",
      "57/57 [==============================] - 0s 5ms/step\n",
      "57/57 [==============================] - 0s 5ms/step\n",
      "57/57 [==============================] - 0s 5ms/step\n",
      "57/57 [==============================] - 0s 6ms/step\n",
      "57/57 [==============================] - 0s 5ms/step\n",
      "57/57 [==============================] - 0s 5ms/step\n",
      "57/57 [==============================] - 0s 6ms/step\n",
      "57/57 [==============================] - 0s 5ms/step\n",
      "57/57 [==============================] - 0s 5ms/step\n",
      "57/57 [==============================] - 1s 9ms/step\n",
      "57/57 [==============================] - 0s 6ms/step\n",
      "57/57 [==============================] - 1s 8ms/step\n",
      "57/57 [==============================] - 0s 5ms/step\n",
      "57/57 [==============================] - 0s 5ms/step\n",
      "57/57 [==============================] - 0s 6ms/step\n",
      "57/57 [==============================] - 0s 5ms/step\n",
      "57/57 [==============================] - 0s 6ms/step\n",
      "57/57 [==============================] - 0s 5ms/step\n",
      "57/57 [==============================] - 0s 5ms/step\n",
      "57/57 [==============================] - 0s 6ms/step\n",
      "57/57 [==============================] - 0s 7ms/step\n",
      "57/57 [==============================] - 0s 5ms/step\n",
      "57/57 [==============================] - 0s 5ms/step\n",
      "57/57 [==============================] - 0s 6ms/step\n",
      "57/57 [==============================] - 0s 5ms/step\n",
      "57/57 [==============================] - 0s 5ms/step\n",
      "57/57 [==============================] - 0s 5ms/step\n",
      "57/57 [==============================] - 0s 5ms/step\n",
      "57/57 [==============================] - 0s 5ms/step\n",
      "57/57 [==============================] - 0s 5ms/step\n",
      "57/57 [==============================] - 0s 5ms/step\n",
      "57/57 [==============================] - 1s 8ms/step\n",
      "57/57 [==============================] - 0s 5ms/step\n",
      "57/57 [==============================] - 1s 7ms/step\n",
      "57/57 [==============================] - 0s 6ms/step\n",
      "57/57 [==============================] - 0s 5ms/step\n",
      "57/57 [==============================] - 1s 7ms/step\n",
      "57/57 [==============================] - 0s 5ms/step\n",
      "57/57 [==============================] - 0s 5ms/step\n",
      "57/57 [==============================] - 0s 4ms/step\n",
      "57/57 [==============================] - 0s 5ms/step\n",
      "57/57 [==============================] - 0s 6ms/step\n",
      "57/57 [==============================] - 0s 4ms/step\n",
      "57/57 [==============================] - 0s 4ms/step\n",
      "57/57 [==============================] - 0s 4ms/step\n",
      "57/57 [==============================] - 0s 5ms/step\n",
      "57/57 [==============================] - 0s 4ms/step\n",
      "57/57 [==============================] - 0s 5ms/step\n",
      "57/57 [==============================] - 0s 5ms/step\n",
      "57/57 [==============================] - 0s 6ms/step\n",
      "57/57 [==============================] - 0s 5ms/step\n",
      "57/57 [==============================] - 0s 5ms/step\n",
      "57/57 [==============================] - 0s 6ms/step\n",
      "57/57 [==============================] - 0s 7ms/step\n",
      "57/57 [==============================] - 0s 4ms/step\n",
      "57/57 [==============================] - 0s 5ms/step\n",
      "57/57 [==============================] - 0s 4ms/step\n",
      "57/57 [==============================] - 0s 5ms/step\n",
      "57/57 [==============================] - 0s 5ms/step\n",
      "57/57 [==============================] - 0s 4ms/step\n",
      "57/57 [==============================] - 0s 4ms/step\n",
      "57/57 [==============================] - 0s 4ms/step\n",
      "57/57 [==============================] - 0s 5ms/step\n",
      "57/57 [==============================] - 0s 5ms/step\n",
      "57/57 [==============================] - 0s 7ms/step\n",
      "57/57 [==============================] - 0s 4ms/step\n",
      "57/57 [==============================] - 0s 4ms/step\n",
      "57/57 [==============================] - 0s 4ms/step\n",
      "57/57 [==============================] - 0s 4ms/step\n",
      "57/57 [==============================] - 0s 4ms/step\n",
      "57/57 [==============================] - 0s 4ms/step\n",
      "57/57 [==============================] - 0s 4ms/step\n",
      "57/57 [==============================] - 0s 5ms/step\n",
      "57/57 [==============================] - 0s 4ms/step\n",
      "57/57 [==============================] - 0s 4ms/step\n",
      "57/57 [==============================] - 0s 4ms/step\n",
      "57/57 [==============================] - 0s 7ms/step\n",
      "57/57 [==============================] - 0s 5ms/step\n",
      "57/57 [==============================] - 0s 3ms/step\n",
      "57/57 [==============================] - 0s 3ms/step\n",
      "57/57 [==============================] - 0s 3ms/step\n",
      "57/57 [==============================] - 0s 4ms/step\n",
      "57/57 [==============================] - 0s 3ms/step\n",
      "57/57 [==============================] - 0s 4ms/step\n",
      "57/57 [==============================] - 0s 3ms/step\n",
      "57/57 [==============================] - 0s 3ms/step\n",
      "57/57 [==============================] - 0s 3ms/step\n",
      "57/57 [==============================] - 0s 3ms/step\n",
      "57/57 [==============================] - 0s 3ms/step\n",
      "57/57 [==============================] - 0s 4ms/step\n",
      "57/57 [==============================] - 0s 3ms/step\n"
     ]
    },
    {
     "data": {
      "text/plain": [
       "<Axes: >"
      ]
     },
     "execution_count": 73,
     "metadata": {},
     "output_type": "execute_result"
    },
    {
     "name": "stdout",
     "output_type": "stream",
     "text": [
      "57/57 [==============================] - 0s 4ms/step\n",
      "57/57 [==============================] - 0s 5ms/step\n",
      "57/57 [==============================] - 0s 4ms/step\n",
      "57/57 [==============================] - 0s 5ms/step\n",
      "57/57 [==============================] - 0s 4ms/step\n",
      "57/57 [==============================] - 0s 5ms/step\n",
      "57/57 [==============================] - 0s 4ms/step\n",
      "57/57 [==============================] - 0s 4ms/step\n",
      "57/57 [==============================] - 0s 4ms/step\n",
      "57/57 [==============================] - 0s 5ms/step\n",
      "57/57 [==============================] - 0s 4ms/step\n",
      "57/57 [==============================] - 0s 4ms/step\n",
      "57/57 [==============================] - 0s 5ms/step\n",
      "57/57 [==============================] - 0s 8ms/step\n",
      "57/57 [==============================] - 0s 5ms/step\n",
      "57/57 [==============================] - 0s 4ms/step\n",
      "57/57 [==============================] - 0s 6ms/step\n",
      "57/57 [==============================] - 0s 4ms/step\n",
      "57/57 [==============================] - 0s 4ms/step\n",
      "57/57 [==============================] - 0s 4ms/step\n",
      "57/57 [==============================] - 0s 3ms/step\n",
      "57/57 [==============================] - 0s 4ms/step\n",
      "57/57 [==============================] - 0s 3ms/step\n",
      "57/57 [==============================] - 0s 5ms/step\n",
      "57/57 [==============================] - 0s 5ms/step\n",
      "57/57 [==============================] - 0s 4ms/step\n",
      "57/57 [==============================] - 0s 3ms/step\n",
      "57/57 [==============================] - 0s 4ms/step\n",
      "57/57 [==============================] - 0s 4ms/step\n",
      "57/57 [==============================] - 0s 5ms/step\n",
      "57/57 [==============================] - 0s 4ms/step\n",
      "57/57 [==============================] - 0s 4ms/step\n",
      "57/57 [==============================] - 0s 5ms/step\n",
      "57/57 [==============================] - 0s 5ms/step\n",
      "57/57 [==============================] - 0s 6ms/step\n",
      "57/57 [==============================] - 1s 12ms/step\n",
      "57/57 [==============================] - 1s 8ms/step\n",
      "57/57 [==============================] - 1s 7ms/step\n",
      "57/57 [==============================] - 0s 5ms/step\n",
      "57/57 [==============================] - 0s 6ms/step\n",
      "57/57 [==============================] - 0s 6ms/step\n",
      "57/57 [==============================] - 0s 5ms/step\n",
      "57/57 [==============================] - 1s 6ms/step\n",
      "57/57 [==============================] - 0s 6ms/step\n",
      "57/57 [==============================] - 1s 15ms/step\n",
      "57/57 [==============================] - 1s 10ms/step\n",
      "57/57 [==============================] - 1s 8ms/step\n",
      "57/57 [==============================] - 1s 8ms/step\n",
      "57/57 [==============================] - 1s 9ms/step\n",
      "57/57 [==============================] - 0s 4ms/step\n",
      "57/57 [==============================] - 0s 5ms/step\n",
      "57/57 [==============================] - 1s 10ms/step\n",
      "57/57 [==============================] - 0s 7ms/step\n",
      "57/57 [==============================] - 1s 7ms/step\n",
      "57/57 [==============================] - 0s 6ms/step\n",
      "57/57 [==============================] - 0s 5ms/step\n",
      "57/57 [==============================] - 1s 12ms/step\n",
      "57/57 [==============================] - 0s 6ms/step\n",
      "57/57 [==============================] - 0s 7ms/step\n",
      "57/57 [==============================] - 0s 5ms/step\n",
      "57/57 [==============================] - 0s 6ms/step\n",
      "57/57 [==============================] - 0s 5ms/step\n",
      "57/57 [==============================] - 0s 4ms/step\n",
      "57/57 [==============================] - 0s 6ms/step\n",
      "57/57 [==============================] - 0s 4ms/step\n",
      "57/57 [==============================] - 0s 5ms/step\n",
      "57/57 [==============================] - 0s 4ms/step\n",
      "57/57 [==============================] - 0s 5ms/step\n",
      "57/57 [==============================] - 0s 7ms/step\n",
      "57/57 [==============================] - 0s 5ms/step\n",
      "57/57 [==============================] - 0s 4ms/step\n",
      "57/57 [==============================] - 0s 5ms/step\n",
      "57/57 [==============================] - 0s 5ms/step\n",
      "57/57 [==============================] - 0s 4ms/step\n",
      "57/57 [==============================] - 0s 4ms/step\n",
      "57/57 [==============================] - 0s 6ms/step\n",
      "57/57 [==============================] - 0s 4ms/step\n",
      "57/57 [==============================] - 0s 5ms/step\n",
      "57/57 [==============================] - 0s 4ms/step\n",
      "57/57 [==============================] - 0s 4ms/step\n",
      "57/57 [==============================] - 0s 4ms/step\n",
      "57/57 [==============================] - 0s 4ms/step\n",
      "57/57 [==============================] - 0s 4ms/step\n",
      "57/57 [==============================] - 0s 4ms/step\n",
      "57/57 [==============================] - 0s 4ms/step\n",
      "57/57 [==============================] - 0s 7ms/step\n",
      "57/57 [==============================] - 0s 4ms/step\n",
      "57/57 [==============================] - 0s 4ms/step\n",
      "57/57 [==============================] - 0s 3ms/step\n",
      "57/57 [==============================] - 0s 3ms/step\n",
      "57/57 [==============================] - 0s 3ms/step\n",
      "57/57 [==============================] - 0s 3ms/step\n",
      "57/57 [==============================] - 0s 4ms/step\n",
      "57/57 [==============================] - 0s 3ms/step\n",
      "57/57 [==============================] - 0s 5ms/step\n",
      "57/57 [==============================] - 0s 3ms/step\n",
      "57/57 [==============================] - 0s 3ms/step\n",
      "57/57 [==============================] - 0s 3ms/step\n",
      "57/57 [==============================] - 0s 3ms/step\n",
      "57/57 [==============================] - 0s 3ms/step\n",
      "57/57 [==============================] - 0s 4ms/step\n",
      "57/57 [==============================] - 0s 4ms/step\n",
      "57/57 [==============================] - 0s 7ms/step\n",
      "57/57 [==============================] - 0s 4ms/step\n",
      "57/57 [==============================] - 0s 4ms/step\n",
      "57/57 [==============================] - 0s 4ms/step\n",
      "57/57 [==============================] - 0s 5ms/step\n",
      "57/57 [==============================] - 0s 4ms/step\n",
      "57/57 [==============================] - 0s 4ms/step\n",
      "57/57 [==============================] - 0s 4ms/step\n",
      "57/57 [==============================] - 0s 5ms/step\n",
      "57/57 [==============================] - 0s 4ms/step\n",
      "57/57 [==============================] - 0s 4ms/step\n",
      "57/57 [==============================] - 0s 5ms/step\n",
      "57/57 [==============================] - 0s 4ms/step\n",
      "57/57 [==============================] - 0s 4ms/step\n",
      "57/57 [==============================] - 0s 4ms/step\n",
      "57/57 [==============================] - 0s 4ms/step\n",
      "57/57 [==============================] - 0s 4ms/step\n",
      "57/57 [==============================] - 0s 4ms/step\n",
      "57/57 [==============================] - 0s 6ms/step\n",
      "57/57 [==============================] - 0s 4ms/step\n",
      "57/57 [==============================] - 0s 3ms/step\n",
      "57/57 [==============================] - 0s 4ms/step\n",
      "57/57 [==============================] - 0s 4ms/step\n",
      "57/57 [==============================] - 0s 3ms/step\n",
      "57/57 [==============================] - 0s 3ms/step\n",
      "57/57 [==============================] - 0s 3ms/step\n",
      "57/57 [==============================] - 0s 3ms/step\n",
      "57/57 [==============================] - 0s 3ms/step\n",
      "57/57 [==============================] - 0s 4ms/step\n",
      "57/57 [==============================] - 0s 4ms/step\n",
      "57/57 [==============================] - 0s 3ms/step\n",
      "57/57 [==============================] - 0s 4ms/step\n",
      "57/57 [==============================] - 0s 3ms/step\n"
     ]
    },
    {
     "data": {
      "text/plain": [
       "<Axes: >"
      ]
     },
     "execution_count": 73,
     "metadata": {},
     "output_type": "execute_result"
    },
    {
     "name": "stdout",
     "output_type": "stream",
     "text": [
      "57/57 [==============================] - 0s 4ms/step\n",
      "57/57 [==============================] - 0s 4ms/step\n",
      "57/57 [==============================] - 0s 3ms/step\n",
      "57/57 [==============================] - 0s 4ms/step\n",
      "57/57 [==============================] - 0s 4ms/step\n",
      "57/57 [==============================] - 0s 5ms/step\n",
      "57/57 [==============================] - 0s 5ms/step\n",
      "57/57 [==============================] - 0s 4ms/step\n",
      "57/57 [==============================] - 0s 4ms/step\n",
      "57/57 [==============================] - 0s 4ms/step\n",
      "57/57 [==============================] - 0s 4ms/step\n",
      "57/57 [==============================] - 0s 4ms/step\n",
      "57/57 [==============================] - 0s 5ms/step\n",
      "57/57 [==============================] - 0s 4ms/step\n",
      "57/57 [==============================] - 0s 4ms/step\n",
      "57/57 [==============================] - 0s 4ms/step\n",
      "57/57 [==============================] - 0s 4ms/step\n",
      "57/57 [==============================] - 0s 4ms/step\n",
      "57/57 [==============================] - 0s 4ms/step\n",
      "57/57 [==============================] - 0s 3ms/step\n",
      "57/57 [==============================] - 0s 3ms/step\n",
      "57/57 [==============================] - 0s 4ms/step\n",
      "57/57 [==============================] - 0s 4ms/step\n",
      "57/57 [==============================] - 0s 4ms/step\n",
      "57/57 [==============================] - 0s 4ms/step\n",
      "57/57 [==============================] - 0s 4ms/step\n",
      "57/57 [==============================] - 0s 4ms/step\n",
      "57/57 [==============================] - 0s 3ms/step\n",
      "57/57 [==============================] - 0s 3ms/step\n",
      "57/57 [==============================] - 0s 3ms/step\n",
      "57/57 [==============================] - 0s 4ms/step\n",
      "57/57 [==============================] - 0s 4ms/step\n",
      "57/57 [==============================] - 0s 4ms/step\n",
      "57/57 [==============================] - 0s 4ms/step\n",
      "57/57 [==============================] - 0s 4ms/step\n",
      "57/57 [==============================] - 0s 4ms/step\n",
      "57/57 [==============================] - 0s 5ms/step\n",
      "57/57 [==============================] - 0s 4ms/step\n",
      "57/57 [==============================] - 0s 4ms/step\n",
      "57/57 [==============================] - 0s 4ms/step\n",
      "57/57 [==============================] - 0s 4ms/step\n",
      "57/57 [==============================] - 0s 6ms/step\n",
      "57/57 [==============================] - 0s 4ms/step\n",
      "57/57 [==============================] - 0s 4ms/step\n",
      "57/57 [==============================] - 0s 4ms/step\n",
      "57/57 [==============================] - 0s 4ms/step\n",
      "57/57 [==============================] - 0s 4ms/step\n",
      "57/57 [==============================] - 0s 5ms/step\n",
      "57/57 [==============================] - 0s 5ms/step\n",
      "57/57 [==============================] - 0s 5ms/step\n",
      "57/57 [==============================] - 0s 7ms/step\n",
      "57/57 [==============================] - 0s 5ms/step\n",
      "57/57 [==============================] - 0s 4ms/step\n",
      "57/57 [==============================] - 0s 4ms/step\n",
      "57/57 [==============================] - 0s 4ms/step\n",
      "57/57 [==============================] - 0s 4ms/step\n",
      "57/57 [==============================] - 0s 4ms/step\n",
      "57/57 [==============================] - 0s 3ms/step\n",
      "57/57 [==============================] - 0s 3ms/step\n",
      "57/57 [==============================] - 0s 3ms/step\n",
      "57/57 [==============================] - 0s 4ms/step\n",
      "57/57 [==============================] - 0s 5ms/step\n",
      "57/57 [==============================] - 0s 4ms/step\n",
      "57/57 [==============================] - 0s 4ms/step\n",
      "57/57 [==============================] - 0s 6ms/step\n",
      "57/57 [==============================] - 0s 4ms/step\n",
      "57/57 [==============================] - 0s 4ms/step\n",
      "57/57 [==============================] - 0s 4ms/step\n",
      "57/57 [==============================] - 0s 5ms/step\n",
      "57/57 [==============================] - 0s 4ms/step\n",
      "57/57 [==============================] - 0s 4ms/step\n",
      "57/57 [==============================] - 0s 4ms/step\n",
      "57/57 [==============================] - 0s 4ms/step\n",
      "57/57 [==============================] - 0s 4ms/step\n",
      "57/57 [==============================] - 0s 4ms/step\n",
      "57/57 [==============================] - 0s 5ms/step\n",
      "57/57 [==============================] - 0s 4ms/step\n",
      "57/57 [==============================] - 0s 4ms/step\n",
      "57/57 [==============================] - 0s 5ms/step\n",
      "57/57 [==============================] - 0s 4ms/step\n",
      "57/57 [==============================] - 0s 7ms/step\n",
      "57/57 [==============================] - 0s 4ms/step\n",
      "57/57 [==============================] - 0s 4ms/step\n",
      "57/57 [==============================] - 0s 4ms/step\n",
      "57/57 [==============================] - 0s 4ms/step\n",
      "57/57 [==============================] - 0s 6ms/step\n",
      "57/57 [==============================] - 0s 5ms/step\n",
      "57/57 [==============================] - 0s 3ms/step\n",
      "57/57 [==============================] - 0s 4ms/step\n",
      "57/57 [==============================] - 0s 3ms/step\n",
      "57/57 [==============================] - 0s 3ms/step\n",
      "57/57 [==============================] - 0s 3ms/step\n",
      "57/57 [==============================] - 0s 4ms/step\n",
      "57/57 [==============================] - 0s 3ms/step\n",
      "57/57 [==============================] - 0s 3ms/step\n",
      "57/57 [==============================] - 0s 4ms/step\n",
      "57/57 [==============================] - 0s 5ms/step\n",
      "57/57 [==============================] - 0s 3ms/step\n",
      "57/57 [==============================] - 0s 4ms/step\n",
      "57/57 [==============================] - 0s 3ms/step\n",
      "57/57 [==============================] - 0s 4ms/step\n",
      "57/57 [==============================] - 0s 4ms/step\n",
      "57/57 [==============================] - 0s 4ms/step\n",
      "57/57 [==============================] - 0s 4ms/step\n",
      "57/57 [==============================] - 0s 4ms/step\n",
      "57/57 [==============================] - 0s 5ms/step\n",
      "57/57 [==============================] - 0s 4ms/step\n",
      "57/57 [==============================] - 0s 4ms/step\n",
      "57/57 [==============================] - 0s 4ms/step\n",
      "57/57 [==============================] - 0s 3ms/step\n",
      "57/57 [==============================] - 0s 4ms/step\n",
      "57/57 [==============================] - 0s 5ms/step\n",
      "57/57 [==============================] - 0s 4ms/step\n",
      "57/57 [==============================] - 0s 3ms/step\n",
      "57/57 [==============================] - 0s 4ms/step\n",
      "57/57 [==============================] - 0s 4ms/step\n",
      "57/57 [==============================] - 0s 5ms/step\n",
      "57/57 [==============================] - 0s 4ms/step\n",
      "57/57 [==============================] - 0s 4ms/step\n",
      "57/57 [==============================] - 0s 4ms/step\n",
      "57/57 [==============================] - 0s 3ms/step\n",
      "57/57 [==============================] - 0s 3ms/step\n",
      "57/57 [==============================] - 0s 3ms/step\n",
      "57/57 [==============================] - 0s 3ms/step\n",
      "57/57 [==============================] - 0s 4ms/step\n",
      "57/57 [==============================] - 0s 4ms/step\n",
      "57/57 [==============================] - 0s 3ms/step\n",
      "57/57 [==============================] - 0s 3ms/step\n",
      "57/57 [==============================] - 0s 3ms/step\n",
      "57/57 [==============================] - 0s 3ms/step\n",
      "57/57 [==============================] - 0s 4ms/step\n",
      "57/57 [==============================] - 0s 4ms/step\n",
      "57/57 [==============================] - 0s 3ms/step\n",
      "57/57 [==============================] - 0s 4ms/step\n",
      "57/57 [==============================] - 0s 3ms/step\n",
      "57/57 [==============================] - 0s 4ms/step\n",
      "57/57 [==============================] - 0s 3ms/step\n",
      "57/57 [==============================] - 0s 5ms/step\n",
      "57/57 [==============================] - 0s 4ms/step\n",
      "57/57 [==============================] - 0s 4ms/step\n",
      "57/57 [==============================] - 0s 4ms/step\n",
      "57/57 [==============================] - 0s 4ms/step\n",
      "57/57 [==============================] - 0s 5ms/step\n",
      "57/57 [==============================] - 0s 4ms/step\n",
      "57/57 [==============================] - 0s 4ms/step\n",
      "57/57 [==============================] - 0s 4ms/step\n",
      "57/57 [==============================] - 0s 4ms/step\n",
      "57/57 [==============================] - 0s 4ms/step\n",
      "57/57 [==============================] - 0s 4ms/step\n",
      "57/57 [==============================] - 0s 4ms/step\n",
      "57/57 [==============================] - 0s 5ms/step\n",
      "57/57 [==============================] - 0s 4ms/step\n",
      "57/57 [==============================] - 0s 5ms/step\n",
      "57/57 [==============================] - 0s 4ms/step\n",
      "57/57 [==============================] - 0s 6ms/step\n",
      "57/57 [==============================] - 0s 5ms/step\n",
      "57/57 [==============================] - 0s 4ms/step\n",
      "57/57 [==============================] - 0s 4ms/step\n",
      "57/57 [==============================] - 0s 5ms/step\n",
      "57/57 [==============================] - 0s 5ms/step\n",
      "57/57 [==============================] - 0s 4ms/step\n",
      "57/57 [==============================] - 0s 5ms/step\n",
      "57/57 [==============================] - 0s 4ms/step\n",
      "57/57 [==============================] - 0s 3ms/step\n",
      "57/57 [==============================] - 0s 3ms/step\n",
      "57/57 [==============================] - 0s 3ms/step\n",
      "57/57 [==============================] - 0s 3ms/step\n",
      "57/57 [==============================] - 0s 6ms/step\n",
      "57/57 [==============================] - 0s 4ms/step\n",
      "57/57 [==============================] - 0s 5ms/step\n",
      "57/57 [==============================] - 0s 3ms/step\n",
      "57/57 [==============================] - 0s 5ms/step\n",
      "57/57 [==============================] - 0s 4ms/step\n",
      "57/57 [==============================] - 0s 4ms/step\n",
      "57/57 [==============================] - 0s 4ms/step\n",
      "57/57 [==============================] - 0s 4ms/step\n",
      "57/57 [==============================] - 0s 6ms/step\n",
      "57/57 [==============================] - 0s 5ms/step\n",
      "57/57 [==============================] - 0s 5ms/step\n",
      "57/57 [==============================] - 0s 4ms/step\n",
      "57/57 [==============================] - 0s 4ms/step\n",
      "57/57 [==============================] - 0s 4ms/step\n",
      "57/57 [==============================] - 0s 4ms/step\n",
      "57/57 [==============================] - 0s 4ms/step\n"
     ]
    },
    {
     "data": {
      "text/plain": [
       "<Axes: >"
      ]
     },
     "execution_count": 73,
     "metadata": {},
     "output_type": "execute_result"
    },
    {
     "name": "stdout",
     "output_type": "stream",
     "text": [
      "57/57 [==============================] - 0s 4ms/step\n",
      "57/57 [==============================] - 0s 4ms/step\n",
      "57/57 [==============================] - 0s 6ms/step\n",
      "57/57 [==============================] - 0s 4ms/step\n",
      "57/57 [==============================] - 0s 5ms/step\n",
      "57/57 [==============================] - 0s 3ms/step\n",
      "57/57 [==============================] - 0s 4ms/step\n",
      "57/57 [==============================] - 0s 4ms/step\n",
      "57/57 [==============================] - 0s 3ms/step\n",
      "57/57 [==============================] - 0s 4ms/step\n",
      "57/57 [==============================] - 0s 3ms/step\n",
      "57/57 [==============================] - 0s 3ms/step\n",
      "57/57 [==============================] - 0s 3ms/step\n",
      "57/57 [==============================] - 0s 3ms/step\n",
      "57/57 [==============================] - 0s 3ms/step\n",
      "57/57 [==============================] - 0s 3ms/step\n",
      "57/57 [==============================] - 0s 3ms/step\n",
      "57/57 [==============================] - 0s 4ms/step\n",
      "57/57 [==============================] - 0s 4ms/step\n",
      "57/57 [==============================] - 0s 4ms/step\n",
      "57/57 [==============================] - 0s 3ms/step\n",
      "57/57 [==============================] - 0s 4ms/step\n",
      "57/57 [==============================] - 0s 4ms/step\n",
      "57/57 [==============================] - 0s 4ms/step\n",
      "57/57 [==============================] - 0s 5ms/step\n",
      "57/57 [==============================] - 0s 4ms/step\n",
      "57/57 [==============================] - 0s 4ms/step\n",
      "57/57 [==============================] - 0s 4ms/step\n",
      "57/57 [==============================] - 0s 4ms/step\n",
      "57/57 [==============================] - 0s 4ms/step\n",
      "57/57 [==============================] - 0s 4ms/step\n",
      "57/57 [==============================] - 0s 4ms/step\n",
      "57/57 [==============================] - 0s 4ms/step\n",
      "57/57 [==============================] - 0s 5ms/step\n",
      "57/57 [==============================] - 0s 4ms/step\n",
      "57/57 [==============================] - 0s 4ms/step\n",
      "57/57 [==============================] - 0s 4ms/step\n",
      "57/57 [==============================] - 0s 4ms/step\n",
      "57/57 [==============================] - 0s 4ms/step\n",
      "57/57 [==============================] - 0s 4ms/step\n",
      "57/57 [==============================] - 0s 4ms/step\n",
      "57/57 [==============================] - 0s 3ms/step\n",
      "57/57 [==============================] - 0s 3ms/step\n",
      "57/57 [==============================] - 0s 3ms/step\n",
      "57/57 [==============================] - 0s 3ms/step\n",
      "57/57 [==============================] - 0s 6ms/step\n",
      "57/57 [==============================] - 0s 4ms/step\n",
      "57/57 [==============================] - 0s 3ms/step\n",
      "57/57 [==============================] - 0s 3ms/step\n",
      "57/57 [==============================] - 0s 4ms/step\n",
      "57/57 [==============================] - 0s 3ms/step\n",
      "57/57 [==============================] - 0s 3ms/step\n",
      "57/57 [==============================] - 0s 3ms/step\n",
      "57/57 [==============================] - 0s 4ms/step\n",
      "57/57 [==============================] - 0s 3ms/step\n",
      "57/57 [==============================] - 0s 3ms/step\n",
      "57/57 [==============================] - 0s 3ms/step\n",
      "57/57 [==============================] - 0s 4ms/step\n",
      "57/57 [==============================] - 0s 4ms/step\n",
      "57/57 [==============================] - 0s 4ms/step\n",
      "57/57 [==============================] - 0s 4ms/step\n",
      "57/57 [==============================] - 0s 4ms/step\n",
      "57/57 [==============================] - 0s 5ms/step\n",
      "57/57 [==============================] - 0s 4ms/step\n",
      "57/57 [==============================] - 0s 4ms/step\n",
      "57/57 [==============================] - 0s 4ms/step\n",
      "57/57 [==============================] - 0s 6ms/step\n",
      "57/57 [==============================] - 0s 4ms/step\n",
      "57/57 [==============================] - 0s 4ms/step\n",
      "57/57 [==============================] - 0s 4ms/step\n",
      "57/57 [==============================] - 0s 4ms/step\n",
      "57/57 [==============================] - 0s 4ms/step\n",
      "57/57 [==============================] - 0s 4ms/step\n",
      "57/57 [==============================] - 0s 4ms/step\n",
      "57/57 [==============================] - 0s 4ms/step\n",
      "57/57 [==============================] - 0s 4ms/step\n",
      "57/57 [==============================] - 0s 4ms/step\n",
      "57/57 [==============================] - 0s 4ms/step\n",
      "57/57 [==============================] - 0s 3ms/step\n",
      "57/57 [==============================] - 0s 4ms/step\n",
      "57/57 [==============================] - 0s 4ms/step\n",
      "57/57 [==============================] - 0s 4ms/step\n",
      "57/57 [==============================] - 0s 3ms/step\n",
      "57/57 [==============================] - 0s 3ms/step\n",
      "57/57 [==============================] - 0s 4ms/step\n",
      "57/57 [==============================] - 0s 3ms/step\n",
      "57/57 [==============================] - 0s 5ms/step\n",
      "57/57 [==============================] - 0s 4ms/step\n",
      "57/57 [==============================] - 0s 3ms/step\n",
      "57/57 [==============================] - 0s 4ms/step\n",
      "57/57 [==============================] - 0s 3ms/step\n",
      "57/57 [==============================] - 0s 3ms/step\n",
      "57/57 [==============================] - 0s 3ms/step\n",
      "57/57 [==============================] - 0s 3ms/step\n",
      "57/57 [==============================] - 0s 4ms/step\n",
      "57/57 [==============================] - 0s 4ms/step\n",
      "57/57 [==============================] - 0s 4ms/step\n",
      "57/57 [==============================] - 0s 4ms/step\n",
      "57/57 [==============================] - 0s 4ms/step\n"
     ]
    },
    {
     "data": {
      "image/png": "[encoded data removed]",
      "text/plain": [
       "<Figure size 800x600 with 4 Axes>"
      ]
     },
     "metadata": {
      "image/png": {
       "height": 600,
       "width": 800
      }
     },
     "output_type": "display_data"
    }
   ],
   "source": [
    "# Function to calculate and plot ALE for a given feature\n",
    "def plot_ale(feature_to_calculate_ale):\n",
    "    X_test_copy = X_test.copy()\n",
    "\n",
    "    # Sort the unique values of the chosen feature\n",
    "    unique_feature_values = np.sort(X_test_copy[feature_to_calculate_ale].unique())\n",
    "\n",
    "    # Initialize lists to store ALE values\n",
    "    ale_values = []\n",
    "\n",
    "    # Calculate ALE for each unique feature value\n",
    "    for value in unique_feature_values:\n",
    "        # Create a copy of the input data with the current feature value replaced\n",
    "        X_test_copy[feature_to_calculate_ale] = value\n",
    "\n",
    "        # Make predictions on the modified dataset\n",
    "        y_hat_test_nn_modified = final_nn.predict(X_test_copy)\n",
    "\n",
    "        # Calculate the ALE value\n",
    "        ale_value = np.mean(y_hat_test_nn_modified - y_hat_test_nn)\n",
    "\n",
    "        # Append values to the list\n",
    "        ale_values.append(ale_value)\n",
    "\n",
    "    # Convert lists to numpy arrays for plotting\n",
    "    ale_values = np.array(ale_values)\n",
    "\n",
    "    # Plotting the ALE-like plot\n",
    "    plt.plot(unique_feature_values, ale_values, marker='o')\n",
    "    plt.xlabel(feature_to_calculate_ale)\n",
    "    plt.ylabel(\"ALE Value\")\n",
    "    plt.title(f\"ALE-like Plot - {feature_to_calculate_ale}\", fontsize=10)  \n",
    "\n",
    "# Create a 2x2 subplot grid\n",
    "plt.figure(figsize=(8, 6))\n",
    "\n",
    "# Plot ALE for each feature in a separate subplot\n",
    "plt.subplot(2, 2, 1)\n",
    "plot_ale(\"theatre_count\")\n",
    "\n",
    "plt.subplot(2, 2, 2)\n",
    "plot_ale(\"avg run per theatre\")\n",
    "\n",
    "plt.subplot(2, 2, 3)\n",
    "plot_ale(\"production_budget\")\n",
    "\n",
    "plt.subplot(2, 2, 4)\n",
    "plot_ale(\"runtime\")\n",
    "\n",
    "# Adjust layout to prevent overlap\n",
    "plt.tight_layout()\n",
    "\n",
    "# Show the plots\n",
    "plt.show()"
   ]
  },
  {
   "cell_type": "markdown",
   "metadata": {},
   "source": [
    "**Conclusion:**\n",
    "\n",
    "For theatre count, the ALE plot exhibits a steep, almost exponential increase in ALE values as the theatre count increases. This indicates a strong positive relationship between the number of theatres a movie is shown in and its profit. \n",
    "\n",
    "The avg run per theatre plot also shows a strong positive relationship, with the ALE value increasing sharply as the average run per theatre increases. This suggests that movies that have longer runs in theatres tend to be more profitable. A low average amount of runs per theatre has a negative impact on profit. Then with small amounts of more runs per theatre the effect on the profit becomes positive and rises really quickly. At a certain amount more runs do not really have a higher positive impact on the profit. \n",
    "\n",
    "The ALE plot for production budget shows a U-shaped relationship initially, with a steep upward trend as the production budget increases. This suggests that at very low production budgets, increasing the budget is associated with a decrease in movie profit, but beyond a certain point, increases in the production budget are associated with significant increases in profit. This might indicate that beyond a certain threshold, investing more heavily in production can lead to greater profits.\n",
    "\n",
    "The ALE plot for runtime shows a mostly positive relationship, with the ALE value increasing steadily as runtime increases. This indicates that movies with longer runtimes tend to have slightly higher profits, although the effect seems to be less dramatic than for theatre count or average run per theatre.\n",
    "\n"
   ]
  },
  {
   "cell_type": "markdown",
   "metadata": {},
   "source": [
    "## 5.2 Answers to research questions"
   ]
  },
  {
   "cell_type": "markdown",
   "metadata": {},
   "source": [
    "1 - Which model performs best at predicting profit?\n",
    "\n",
    "The Neural Network performs better than the Random forest.\n",
    "\n",
    "2 - Which features are best to use for predicting profit for movies?\n",
    "\n",
    "Comparing the evaluation metrices of all four models, on average, both models (ANN & RF) using only numerical values, including production budget, theatre count, average run per theatre and runtime, with a correlation of more than 0.2 with the target variable are best in predicting the profit of movies. The ANN including also Genre and Ratings has around the same performance as the Random Forest without those features (r-squared = 72%). \n",
    "\n",
    "3 - How does the production budget influence the profit of the movies?\n",
    "\n",
    "The very high production budgets effect the profit in the most positive way. But this is only the case if the budget exceedes a certain threshold. Before that it doesn´t really matter how high the production budget is, it will always have a slightly negative or no impact on the profit. Therefore, increases in the production budget may not immediately be associated with increases in profit, but beyond a certain level of costs, further increases in the production budget tend to be associated with higher profits. \n",
    "\n",
    "4 - How does the theatre count influence the profit of a movie?\n",
    "\n",
    "The influence of the theatre count on profit rises exponentially. The more theatre counts, the higher the positive impact. In other words, movies shown in more theatres tend to have higher profits.\n",
    "\n",
    "5 - How does the average run per theatre influence the profit?\n",
    "\n",
    "Longer runs in theatres are associated with higher profits. Therefore extending the run of a movie in theatres can positively affect its profit.\n",
    "\n",
    "6 - How does the runtime influence the profit of a movie?\n",
    "\n",
    "The longer the runtime the higher the positive influence on the profit. But too short of a runtime has a negative impact on the profit. Generally, longer movies tend to be slightly more profitable."
   ]
  },
  {
   "cell_type": "markdown",
   "metadata": {},
   "source": [
    "**Main Research Question: How should movie studios design their strategy to maximize the profit of their movies?**\n"
   ]
  },
  {
   "cell_type": "markdown",
   "metadata": {},
   "source": [
    "To create the most profit, movie studios should focus the most on having their movies played in as many movie theatres as possible. A broad distribution strategy is crucial for achieving higher profits through a wide-scale theatrical release. Also, the movie should be run as much as possible as those 2 features have the most influence on the profit which is also positive when it is high.\n",
    "\n",
    "With the production budget, movie studios should also not hold back too much. Investing into a movie of high quality can pay off in the end. \n",
    "\n",
    "Although runtime has the lowest influence on a movies profit, movie studios should make sure that their movies are long. People seem to enjoy movies that keep them distracted from their real life as long as possible."
   ]
  },
  {
   "cell_type": "markdown",
   "metadata": {},
   "source": []
  }
 ],
 "metadata": {
  "kernelspec": {
   "display_name": "base",
   "language": "python",
   "name": "python3"
  },
  "language_info": {
   "codemirror_mode": {
    "name": "ipython",
    "version": 3
   },
   "file_extension": ".py",
   "mimetype": "text/x-python",
   "name": "python",
   "nbconvert_exporter": "python",
   "pygments_lexer": "ipython3",
   "version": "3.11.4"
  }
 },
 "nbformat": 4,
 "nbformat_minor": 2
}
